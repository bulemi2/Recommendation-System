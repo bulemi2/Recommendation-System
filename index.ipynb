{
 "cells": [
  {
   "cell_type": "markdown",
   "metadata": {},
   "source": [
    "# __MOVIE RECOMMENDER SYSTEM__"
   ]
  },
  {
   "cell_type": "markdown",
   "metadata": {},
   "source": [
    "![image](images/poster.jpeg)"
   ]
  },
  {
   "cell_type": "markdown",
   "metadata": {},
   "source": [
    "\n",
    "### __INTRODUCTION__\n",
    "In this exciting study, we explore the field of movie recommendations by utilizing the MovieLens dataset from the University of Minnesota's GroupLens research lab. The primary objective of our project is to create an advanced model that uses user ratings of previous films to suggest the top 5 movies to consumers. Throughout this presentation, we invite you to immerse yourself in the world of movie recommendations. We'll walk you through our model's intricacies, key findings, and demonstrate its prowess in suggesting movies tailored to individual tastes."
   ]
  },
  {
   "cell_type": "markdown",
   "metadata": {},
   "source": [
    "### Table of contents\n",
    "\n",
    "- [Business Understanding](#PROJECT-OVERVIEW)\n",
    "- [Data Understanding](#DATA-UNDERSTANDING)\n",
    "- [Data Preprocessing](#DATA-PREPARATION)\n",
    "- [Exploratory Data Analysis](#EXPLORATORY-DATA-ANALYSIS)\n",
    "- [Generating a Recommendation System](#RECOMMENDATION-SYSTEM-GENERATION)\n",
    "- [Conclusion and Recommendation](#Conclusion-and-Recommendation)"
   ]
  },
  {
   "cell_type": "markdown",
   "metadata": {},
   "source": [
    "### __PROJECT OVERVIEW__\n",
    "### __Business Understanding__\n",
    "Movie Recommender Systems have evolved significantly over the years, playing a crucial role in enhancing user experience and driving business growth in the entertainment industry. Recommender systems date back to the late 20th century. In the early days, **collaborative filtering** was a prominent technique in which systems analyzed user behaviors and preferences to make recommendations. However, **scalability** and the **cold-start** problem (new items or users with limited data) were challenges. **Content-based filtering** emerged as an approach that considered item features and user preferences. Hybrid models, combining **collaborative** and **content-based** methods, gained popularity. Companies started integrating metadata like genre, director, and actor information to enhance recommendations.\n",
    "\n",
    "Streaming platforms, such as Netflix, Hulu, and Amazon Prime Video, heavily rely on recommender systems. Personalization became a key business strategy, offering users tailored content suggestions based on their viewing history, ratings, and implicit feedback. While recommender systems offer numerous benefits, they also face challenges, including issues of bias, diversity, and privacy. Ensuring fair and unbiased recommendations has become a critical aspect of system development. The landscape continues to evolve with ongoing research in reinforcement learning, contextual recommendations, and explainability. Companies invest in AI research and development to stay competitive and enhance the overall user experience.\n",
    "\n",
    "This movie recommendation system is designed to benefit the following stakeholders:\n",
    "\n",
    "- **Users:** Movie enthusiasts seeking personalized movie suggestions based on their preferences and viewing history.\n",
    "- **Streaming Platform:** The platform hosting the movie recommendation system, aiming to enhance user satisfaction and engagement.\n",
    "- **Movie Production Studios:** Movie studios and content creators interested in understanding user preferences and trends to optimize their content offerings."
   ]
  },
  {
   "cell_type": "markdown",
   "metadata": {},
   "source": [
    "### __Problem Statement__\n",
    "Current systems frequently struggle with inadequate personalization, providing generic recommendations that do not correspond with the tastes of specific users. This gap leads to user annoyance and diminished engagement, diminishing the potential for streaming platforms to increase user pleasure. Second, because there is a widespread issue with cold starts, the algorithm performs poorly when it comes to new users or movies because there is insufficient history data to make initial recommendations accurately. It is critical to address these problems in order to create a recommendation system that appeals to consumers, changes with their tastes, and offers a varied and interesting viewing experience."
   ]
  },
  {
   "cell_type": "markdown",
   "metadata": {},
   "source": [
    "### __Objectives__\n",
    "\n",
    "\n",
    "\n",
    "**Main Objective:** To build a comprehensive movie recommendation system that leverages user ratings to provide personalized top 5 movie recommendations. The system will employ various approaches, including collaborative filtering, content-based filtering, model-based methods, and hybrid techniques, to enhance recommendation accuracy and coverage. The goal is to create a versatile and effective recommendation engine capable of understanding user preferences and delivering relevant movie suggestions.\n",
    "\n",
    "Other Objectives:\n",
    "\n",
    "1. To examine the distribution of movie ratings to better understand user preferences. Analyze the spread of ratings and identify any trends, such as common rating values or preferences for specific rating ranges.\n",
    "\n",
    "2. To analyze user engagement on a monthly basis to identify trends and patterns. Explore the number of ratings submitted by users each month to understand seasonal variations and user activity over time.\n",
    "\n",
    "3. To identify and analyze movies that have received the highest ratings and are also the most-watched by users.By combining these criteria, we gain insights into movies that are both critically acclaimed and widely appreciated by the audience."
   ]
  },
  {
   "cell_type": "markdown",
   "metadata": {},
   "source": [
    "### __DATA UNDERSTANDING__\n",
    "The dataset (ml-latest-small) consists of 100,836 ratings and 3,683 tag applications across 9,742 movies. The data were generated by 610 users between March 29, 1996, and September 24, 2018.\n",
    "\n",
    "The data used in this project will be pulled from 2 different separate files:\n",
    "\n",
    "1. **Movies Data (movies.csv):**\n",
    "Contains movie information, including titles and genres with the following columns:\n",
    " * `movieId`: Unique identifier for each movie.\n",
    " * `title`: The title of the movie, which also includes the year of release in parentheses.\n",
    " * `genres`: A pipe-separated list of genres to categorize the movie (e.g., Action|Adventure|Comedy).\n",
    "\n",
    "2. **Ratings Data (ratings.csv):**\n",
    "Contains user ratings on a 5-star scale for movies and has the following columns:\n",
    " * `userId`: ID representing the unique identifier for each user.\n",
    " * `movieId`: Unique identifier for each movie.\n",
    " * `rating`: User's rating for the movie on a 5-star scale with half-star increments (0.5 to 5.0).\n",
    " * `timestamp`: The timestamp when the rating was recorded, represented in seconds since midnight Coordinated Universal Time (UTC) of January 1, 1970.\n",
    "\n",
    " "
   ]
  },
  {
   "cell_type": "markdown",
   "metadata": {},
   "source": [
    "The choice of movies.csv and ratings.csv datasets was because of the availability of critical information necessary for building our recommendation system. In this case, movie titles, genres, and movie IDs from the movies.csv and valuable user-specific information from ratings.csv, including user IDs, movie IDs, and ratings. \n",
    "\n",
    "Additionally, the common key between the two datasets is the movie ID, which enables a seamless merging of the datasets, creating a comprehensive dataset that encompasses both movie attributes and user interactions.\n"
   ]
  },
  {
   "cell_type": "code",
   "execution_count": 1,
   "metadata": {},
   "outputs": [],
   "source": [
    "# Importing the necessary libraries\n",
    "import pandas as pd\n",
    "import numpy as np\n",
    "import matplotlib.pyplot as plt\n",
    "import seaborn as sns\n",
    "\n",
    "import calendar\n",
    "\n",
    "from sklearn.feature_extraction.text import TfidfVectorizer\n",
    "from sklearn.metrics.pairwise import sigmoid_kernel\n",
    "\n",
    "from surprise.prediction_algorithms import SVD\n",
    "from surprise.model_selection import train_test_split, cross_validate, GridSearchCV\n",
    "from surprise import Dataset \n",
    "import random\n",
    "from surprise.reader import Reader\n",
    "\n"
   ]
  },
  {
   "cell_type": "markdown",
   "metadata": {},
   "source": [
    "Now, let's load our data and get started."
   ]
  },
  {
   "cell_type": "code",
   "execution_count": 2,
   "metadata": {},
   "outputs": [
    {
     "name": "stdout",
     "output_type": "stream",
     "text": [
      "-------------------------------------------------- Dataset Shape --------------------------------------------------\n"
     ]
    },
    {
     "data": {
      "text/plain": [
       "(100836, 6)"
      ]
     },
     "metadata": {},
     "output_type": "display_data"
    },
    {
     "name": "stdout",
     "output_type": "stream",
     "text": [
      "-------------------------------------------------- Dataset Columns --------------------------------------------------\n"
     ]
    },
    {
     "data": {
      "text/plain": [
       "Index(['movieId', 'title', 'genres', 'userId', 'rating', 'timestamp'], dtype='object')"
      ]
     },
     "metadata": {},
     "output_type": "display_data"
    },
    {
     "name": "stdout",
     "output_type": "stream",
     "text": [
      "-------------------------------------------------- Dataset Head --------------------------------------------------\n"
     ]
    },
    {
     "data": {
      "text/html": [
       "<div>\n",
       "<style scoped>\n",
       "    .dataframe tbody tr th:only-of-type {\n",
       "        vertical-align: middle;\n",
       "    }\n",
       "\n",
       "    .dataframe tbody tr th {\n",
       "        vertical-align: top;\n",
       "    }\n",
       "\n",
       "    .dataframe thead th {\n",
       "        text-align: right;\n",
       "    }\n",
       "</style>\n",
       "<table border=\"1\" class=\"dataframe\">\n",
       "  <thead>\n",
       "    <tr style=\"text-align: right;\">\n",
       "      <th></th>\n",
       "      <th>movieId</th>\n",
       "      <th>title</th>\n",
       "      <th>genres</th>\n",
       "      <th>userId</th>\n",
       "      <th>rating</th>\n",
       "      <th>timestamp</th>\n",
       "    </tr>\n",
       "  </thead>\n",
       "  <tbody>\n",
       "    <tr>\n",
       "      <th>0</th>\n",
       "      <td>1</td>\n",
       "      <td>Toy Story (1995)</td>\n",
       "      <td>Adventure|Animation|Children|Comedy|Fantasy</td>\n",
       "      <td>1</td>\n",
       "      <td>4.0</td>\n",
       "      <td>964982703</td>\n",
       "    </tr>\n",
       "    <tr>\n",
       "      <th>1</th>\n",
       "      <td>1</td>\n",
       "      <td>Toy Story (1995)</td>\n",
       "      <td>Adventure|Animation|Children|Comedy|Fantasy</td>\n",
       "      <td>5</td>\n",
       "      <td>4.0</td>\n",
       "      <td>847434962</td>\n",
       "    </tr>\n",
       "    <tr>\n",
       "      <th>2</th>\n",
       "      <td>1</td>\n",
       "      <td>Toy Story (1995)</td>\n",
       "      <td>Adventure|Animation|Children|Comedy|Fantasy</td>\n",
       "      <td>7</td>\n",
       "      <td>4.5</td>\n",
       "      <td>1106635946</td>\n",
       "    </tr>\n",
       "    <tr>\n",
       "      <th>3</th>\n",
       "      <td>1</td>\n",
       "      <td>Toy Story (1995)</td>\n",
       "      <td>Adventure|Animation|Children|Comedy|Fantasy</td>\n",
       "      <td>15</td>\n",
       "      <td>2.5</td>\n",
       "      <td>1510577970</td>\n",
       "    </tr>\n",
       "    <tr>\n",
       "      <th>4</th>\n",
       "      <td>1</td>\n",
       "      <td>Toy Story (1995)</td>\n",
       "      <td>Adventure|Animation|Children|Comedy|Fantasy</td>\n",
       "      <td>17</td>\n",
       "      <td>4.5</td>\n",
       "      <td>1305696483</td>\n",
       "    </tr>\n",
       "  </tbody>\n",
       "</table>\n",
       "</div>"
      ],
      "text/plain": [
       "   movieId             title                                       genres  \\\n",
       "0        1  Toy Story (1995)  Adventure|Animation|Children|Comedy|Fantasy   \n",
       "1        1  Toy Story (1995)  Adventure|Animation|Children|Comedy|Fantasy   \n",
       "2        1  Toy Story (1995)  Adventure|Animation|Children|Comedy|Fantasy   \n",
       "3        1  Toy Story (1995)  Adventure|Animation|Children|Comedy|Fantasy   \n",
       "4        1  Toy Story (1995)  Adventure|Animation|Children|Comedy|Fantasy   \n",
       "\n",
       "   userId  rating   timestamp  \n",
       "0       1     4.0   964982703  \n",
       "1       5     4.0   847434962  \n",
       "2       7     4.5  1106635946  \n",
       "3      15     2.5  1510577970  \n",
       "4      17     4.5  1305696483  "
      ]
     },
     "metadata": {},
     "output_type": "display_data"
    },
    {
     "name": "stdout",
     "output_type": "stream",
     "text": [
      "-------------------------------------------------- Dataset Information --------------------------------------------------\n",
      "<class 'pandas.core.frame.DataFrame'>\n",
      "Int64Index: 100836 entries, 0 to 100835\n",
      "Data columns (total 6 columns):\n",
      " #   Column     Non-Null Count   Dtype  \n",
      "---  ------     --------------   -----  \n",
      " 0   movieId    100836 non-null  int64  \n",
      " 1   title      100836 non-null  object \n",
      " 2   genres     100836 non-null  object \n",
      " 3   userId     100836 non-null  int64  \n",
      " 4   rating     100836 non-null  float64\n",
      " 5   timestamp  100836 non-null  int64  \n",
      "dtypes: float64(1), int64(3), object(2)\n",
      "memory usage: 5.4+ MB\n"
     ]
    },
    {
     "data": {
      "text/plain": [
       "None"
      ]
     },
     "metadata": {},
     "output_type": "display_data"
    }
   ],
   "source": [
    "#/usr/bin/python\n",
    "\n",
    "\"\"\" \n",
    "This function takes datasets' file paths as input,\n",
    "loads them as dataframes, merges them on common column,\n",
    "then outputs shape, columns, first five rows and summary of the merged dataframe.\n",
    "\"\"\"\n",
    "def load_and_examine(file_path_1, file_path_2):\n",
    "    try:\n",
    "        #Load the data\n",
    "        df1 = pd.read_csv(file_path_1)\n",
    "        df2 = pd.read_csv(file_path_2)\n",
    "        data = pd.merge(df1, df2, on = \"movieId\" )\n",
    "        \n",
    "        #Display the shape, columns and first five rows of the dataset\n",
    "        print(\"-\" * 50, \"Dataset Shape\", \"-\" * 50)\n",
    "        display(data.shape)\n",
    "        print(\"-\" * 50, \"Dataset Columns\", \"-\" * 50)\n",
    "        display(data.columns)\n",
    "        print(\"-\" * 50, \"Dataset Head\", \"-\" * 50)\n",
    "        display(data.head())\n",
    "        \n",
    "        #Display information about the dataset\n",
    "        print(\"-\" * 50, \"Dataset Information\", \"-\" * 50)\n",
    "        display(data.info())\n",
    "\n",
    "        return data\n",
    " \n",
    " \n",
    "    except FileNotFoundError:\n",
    "        print(f\"File '{file_path_1}, {file_path_2}' not found.\")\n",
    "    except Exception as e:\n",
    "        print(f\"An error occurred: {e}\")\n",
    "\n",
    "file_path_1 = \"data/movies.csv\"\n",
    "file_path_2 = \"data/ratings.csv\"\n",
    "data = load_and_examine(file_path_1, file_path_2)\n"
   ]
  },
  {
   "cell_type": "markdown",
   "metadata": {},
   "source": [
    "### __DATA PREPARATION__\n",
    "In this section, we will focus on four key aspects of data preparation: \n",
    "* Checking for missing values\n",
    "* Handling duplicates\n",
    "* Datatype Conversion\n",
    "* Feature engineering"
   ]
  },
  {
   "cell_type": "markdown",
   "metadata": {},
   "source": [
    "### __Missing Values__\n",
    "One of the initial tasks in data cleaning involves identifying and addressing missing values. Missing values can occur for various reasons, and dealing with them appropriately is essential for maintaining the integrity of the dataset. \n"
   ]
  },
  {
   "cell_type": "code",
   "execution_count": 3,
   "metadata": {},
   "outputs": [
    {
     "name": "stdout",
     "output_type": "stream",
     "text": [
      "The movieId column has 0 missing values\n",
      "The title column has 0 missing values\n",
      "The genres column has 0 missing values\n",
      "The userId column has 0 missing values\n",
      "The rating column has 0 missing values\n",
      "The timestamp column has 0 missing values\n"
     ]
    }
   ],
   "source": [
    "# Checking for missing values in each column\n",
    "missing_values = data.isna().sum()\n",
    "\n",
    "for column, count in missing_values.items():\n",
    "    print(f\"The {column} column has {count} missing values\")"
   ]
  },
  {
   "cell_type": "markdown",
   "metadata": {},
   "source": [
    "From the cell above, our dataset has no missing values."
   ]
  },
  {
   "cell_type": "markdown",
   "metadata": {},
   "source": [
    "### __Duplicate Values__\n",
    "Duplicate entries in a dataset can introduce biases and inaccuracies in the analysis. Identifying and removing duplicate rows is essential to ensure that each observation in the dataset is unique. This process is particularly important when working with user-generated data or data collected from multiple sources."
   ]
  },
  {
   "cell_type": "code",
   "execution_count": 4,
   "metadata": {},
   "outputs": [
    {
     "name": "stdout",
     "output_type": "stream",
     "text": [
      "The DataFrame has 0 duplicated rows.\n"
     ]
    }
   ],
   "source": [
    "# Checking for duplicated rows\n",
    "duplicated_rows = data.duplicated().sum()\n",
    "print(f'The DataFrame has {duplicated_rows} duplicated rows.')"
   ]
  },
  {
   "cell_type": "markdown",
   "metadata": {},
   "source": [
    "There are no duplicate values"
   ]
  },
  {
   "cell_type": "markdown",
   "metadata": {},
   "source": [
    "### __Datatype Conversion__\n",
    "The `timestamp` column was converted from int datatype to datetime."
   ]
  },
  {
   "cell_type": "code",
   "execution_count": 5,
   "metadata": {},
   "outputs": [
    {
     "name": "stdout",
     "output_type": "stream",
     "text": [
      "<class 'pandas.core.frame.DataFrame'>\n",
      "Int64Index: 100836 entries, 0 to 100835\n",
      "Data columns (total 6 columns):\n",
      " #   Column     Non-Null Count   Dtype         \n",
      "---  ------     --------------   -----         \n",
      " 0   movieId    100836 non-null  int64         \n",
      " 1   title      100836 non-null  object        \n",
      " 2   genres     100836 non-null  object        \n",
      " 3   userId     100836 non-null  int64         \n",
      " 4   rating     100836 non-null  float64       \n",
      " 5   timestamp  100836 non-null  datetime64[ns]\n",
      "dtypes: datetime64[ns](1), float64(1), int64(2), object(2)\n",
      "memory usage: 5.4+ MB\n"
     ]
    }
   ],
   "source": [
    "#Converting 'timestamp' column to datetime type\n",
    "data['timestamp'] = pd.to_datetime(data['timestamp'], unit = 's')\n",
    "data.info()"
   ]
  },
  {
   "cell_type": "markdown",
   "metadata": {},
   "source": [
    "### __Feature Engineering__\n",
    "In the following cell, we introduce two new columns, namely `hour` and `month`, to facilitate the examination of peak user engagement at different times of the day and across various months."
   ]
  },
  {
   "cell_type": "code",
   "execution_count": 6,
   "metadata": {},
   "outputs": [
    {
     "name": "stdout",
     "output_type": "stream",
     "text": [
      "<class 'pandas.core.frame.DataFrame'>\n",
      "Int64Index: 100836 entries, 0 to 100835\n",
      "Data columns (total 8 columns):\n",
      " #   Column     Non-Null Count   Dtype         \n",
      "---  ------     --------------   -----         \n",
      " 0   movieId    100836 non-null  int64         \n",
      " 1   title      100836 non-null  object        \n",
      " 2   genres     100836 non-null  object        \n",
      " 3   userId     100836 non-null  int64         \n",
      " 4   rating     100836 non-null  float64       \n",
      " 5   timestamp  100836 non-null  datetime64[ns]\n",
      " 6   hour       100836 non-null  int64         \n",
      " 7   month      100836 non-null  int64         \n",
      "dtypes: datetime64[ns](1), float64(1), int64(4), object(2)\n",
      "memory usage: 6.9+ MB\n"
     ]
    }
   ],
   "source": [
    "data['hour'] = data['timestamp'].dt.hour\n",
    "data['month'] = data['timestamp'].dt.month\n",
    "data.info()"
   ]
  },
  {
   "cell_type": "markdown",
   "metadata": {},
   "source": [
    "Now the data is ready for EDA.\n"
   ]
  },
  {
   "cell_type": "markdown",
   "metadata": {},
   "source": [
    "### __EXPLORATORY DATA ANALYSIS__"
   ]
  },
  {
   "cell_type": "markdown",
   "metadata": {},
   "source": [
    "**Objective One-** To examine the distribution of movie ratings to better understand user preferences.\n"
   ]
  },
  {
   "cell_type": "markdown",
   "metadata": {},
   "source": [
    "### __Rating Distribution__"
   ]
  },
  {
   "cell_type": "code",
   "execution_count": 7,
   "metadata": {},
   "outputs": [
    {
     "data": {
      "image/png": "[encoded data removed]",
      "text/plain": [
       "<Figure size 936x432 with 1 Axes>"
      ]
     },
     "metadata": {
      "needs_background": "light"
     },
     "output_type": "display_data"
    }
   ],
   "source": [
    "# count of each rating\n",
    "rating_counts = data['rating'].value_counts().sort_index()\n",
    "\n",
    "# colors for each bar\n",
    "bar_colors = ['skyblue', 'lightblue', 'lightgreen', 'yellow', 'orange', 'red', 'blue', 'violet', 'indigo','maroon', 'green']\n",
    "\n",
    "# bar graph\n",
    "plt.figure(figsize=(13, 6))\n",
    "ax = rating_counts.plot(kind='bar', color=bar_colors)\n",
    "ax.set_xlabel('Rating')\n",
    "ax.set_ylabel('Count')\n",
    "ax.set_title('Distribution Of {} Movie Ratings'.format(data.shape[0]))\n",
    "plt.show() "
   ]
  },
  {
   "cell_type": "markdown",
   "metadata": {},
   "source": [
    "Analyzing the distribution of movie ratings provides crucial insights into user sentiments and preferences within the movie recommendation system. Both the shape and spread of the distribution offer a snapshot of the user-base's collective opinion, indicating whether the majority tends to rate movies positively or if opinions are more diverse.\n",
    "\n",
    "Understanding the rating distribution is paramount to refining recommendations, identifying trends, and enhancing the user experience."
   ]
  },
  {
   "cell_type": "markdown",
   "metadata": {},
   "source": [
    "### __Average Hourly Rating__"
   ]
  },
  {
   "cell_type": "code",
   "execution_count": 8,
   "metadata": {},
   "outputs": [
    {
     "data": {
      "image/png": "[encoded data removed]",
      "text/plain": [
       "<Figure size 936x432 with 1 Axes>"
      ]
     },
     "metadata": {
      "needs_background": "light"
     },
     "output_type": "display_data"
    }
   ],
   "source": [
    "# Group by hour and calculate average rating\n",
    "peak_viewing_times = data.groupby('hour')['rating'].mean()\n",
    "\n",
    "# Plotting peak viewing time\n",
    "plt.figure(figsize = (13, 6))\n",
    "peak_viewing_times.plot(kind = 'line', marker = 'o', color = 'r', title = 'Peak Viewing Times')\n",
    "plt.xlabel('Hour of the Day')\n",
    "plt.ylabel('Average Rating')\n",
    "plt.show()\n"
   ]
  },
  {
   "cell_type": "markdown",
   "metadata": {},
   "source": [
    "The visualization above represents average hourly rating and it provides insights into the average ratings of movies across different hours of the day. This analysis can be crucial for stakeholders, such as streaming platforms, movie studios, and advertisers, as it offers a nuanced understanding of user engagement patterns over time. \n",
    "\n",
    "By examining how ratings vary throughout the day, stakeholders can identify peak hours of user activity and tailor their strategies accordingly."
   ]
  },
  {
   "cell_type": "markdown",
   "metadata": {},
   "source": [
    "**Objective 2-** To analyze user engagement on a monthly basis to identify trends and patterns. Explore the number of ratings submitted by users each month to understand seasonal variations and user activity over time.\n"
   ]
  },
  {
   "cell_type": "markdown",
   "metadata": {},
   "source": [
    "### __Monthly User Engagement__"
   ]
  },
  {
   "cell_type": "code",
   "execution_count": 9,
   "metadata": {},
   "outputs": [
    {
     "data": {
      "image/png": "[encoded data removed]",
      "text/plain": [
       "<Figure size 936x432 with 1 Axes>"
      ]
     },
     "metadata": {
      "needs_background": "light"
     },
     "output_type": "display_data"
    }
   ],
   "source": [
    "data['month_name'] = data['month'].apply(lambda x: calendar.month_name[x])\n",
    "\n",
    "# Define the order of months\n",
    "month_order = list(calendar.month_name)[1:]\n",
    "\n",
    "# Convert 'month_name' to categorical with the specified order\n",
    "data['month_name'] = pd.Categorical(data['month_name'], categories=month_order, ordered=True)\n",
    "\n",
    "# Group by month and calculate the number of ratings\n",
    "monthly_ratings_count = data.groupby('month_name')['rating'].count()\n",
    "\n",
    "# Plotting the number of ratings per month with seaborn\n",
    "plt.figure(figsize=(13, 6))\n",
    "sns.barplot(x=monthly_ratings_count.index, y=monthly_ratings_count.values, palette='viridis')\n",
    "plt.title('Number of Ratings per Month')\n",
    "plt.xlabel('Month')\n",
    "plt.ylabel('Number of Ratings')\n",
    "plt.show()\n",
    "\n"
   ]
  },
  {
   "cell_type": "markdown",
   "metadata": {},
   "source": [
    "The bar graph above explores user engagement by examining the number of ratings per month over a long period from **1970** to **2018**. It reveals distinct peaks in user activity during **May** and **November**, suggesting significant spikes in engagement during these months. The pronounced peaks in user engagement during May and November over this extended period may indicate recurring seasonal trends or annual events that consistently capture users' attention. Stakeholders can leverage this information to strategically plan and optimize platform activities, such as content releases, promotions, or community engagement initiatives, around these historically high-engagement months. Understanding the temporal dynamics of user behavior allows stakeholders to align their efforts with periods of heightened user interest, enhancing the overall effectiveness of platform-related activities and potentially improving user satisfaction and loyalty.\n",
    "\n",
    "The long-term analysis of user engagement, provides valuable insights to stakeholders regarding historical trends and patterns in user interaction with the platform."
   ]
  },
  {
   "cell_type": "markdown",
   "metadata": {},
   "source": [
    "### __Top 5 Genres and Percentage Ratio.__"
   ]
  },
  {
   "cell_type": "code",
   "execution_count": 10,
   "metadata": {},
   "outputs": [
    {
     "data": {
      "text/plain": [
       "{'Adventure': 24161,\n",
       " 'Animation': 6988,\n",
       " 'Children': 9208,\n",
       " 'Comedy': 39053,\n",
       " 'Fantasy': 11834,\n",
       " 'Romance': 18124,\n",
       " 'Drama': 41928,\n",
       " 'Action': 30635,\n",
       " 'Crime': 16681,\n",
       " 'Thriller': 26452,\n",
       " 'Horror': 7291,\n",
       " 'Mystery': 7674,\n",
       " 'Sci-Fi': 17243,\n",
       " 'War': 4859,\n",
       " 'Musical': 4138,\n",
       " 'Documentary': 1219,\n",
       " 'IMAX': 4145,\n",
       " 'Western': 1930,\n",
       " 'Film-Noir': 870,\n",
       " '(no genres listed)': 47}"
      ]
     },
     "execution_count": 10,
     "metadata": {},
     "output_type": "execute_result"
    }
   ],
   "source": [
    "# checking different genres value count.\n",
    "\n",
    "def find_genres(data):\n",
    "    \"\"\"\n",
    "    Find and count genres in a movies DataFrame.\n",
    "\n",
    "    \"\"\"\n",
    "    genres = {}  # dictionary to store different genre values\n",
    "\n",
    "    for genre in data['genres']:\n",
    "        words = genre.split('|')\n",
    "        for word in words:\n",
    "            genres[word] = genres.get(word, 0) + 1\n",
    "\n",
    "    return genres\n",
    "\n",
    "# usage:\n",
    "genre_count = find_genres(data)\n",
    "genre_count"
   ]
  },
  {
   "cell_type": "code",
   "execution_count": 11,
   "metadata": {},
   "outputs": [
    {
     "data": {
      "image/png": "[encoded data removed]",
      "text/plain": [
       "<Figure size 936x432 with 1 Axes>"
      ]
     },
     "metadata": {
      "needs_background": "light"
     },
     "output_type": "display_data"
    },
    {
     "data": {
      "image/png": "[encoded data removed]",
      "text/plain": [
       "<Figure size 1080x576 with 1 Axes>"
      ]
     },
     "metadata": {},
     "output_type": "display_data"
    }
   ],
   "source": [
    "# visualization of top 5 genre and percentage ratio.\n",
    "\n",
    "# Convert genre_count dictionary to a DataFrame\n",
    "df_genre = pd.DataFrame(list(genre_count.items()), columns=['Genre', 'Count'])\n",
    "\n",
    "# Sort DataFrame by Count in descending order\n",
    "df_genre = df_genre.sort_values(by='Count', ascending=False)\n",
    "\n",
    "# Select the top 5 genres\n",
    "top5_genre = df_genre.head(5)\n",
    "\n",
    "\n",
    "# Plotting\n",
    "plt.figure(figsize=(13, 6))\n",
    "sns.set(style=\"whitegrid\")\n",
    "sns.barplot(x='Genre', y='Count', data=top5_genre, palette=\"viridis\")\n",
    "plt.title('Top 5 Movie Genres')\n",
    "plt.xlabel('Genre')\n",
    "plt.ylabel('Count')\n",
    "plt.xticks(rotation=45)\n",
    "plt.show()\n",
    "\n",
    "# Pie chart for percentage ratio\n",
    "plt.figure(figsize=(15, 8))\n",
    "plt.pie(top5_genre['Count'], labels = top5_genre['Genre'], autopct = '%1.1f%%', colors = sns.color_palette(\"viridis\"), startangle = 90)\n",
    "plt.title('Percentage Ratio of Top 5 Movie Genres')\n",
    "plt.show()\n"
   ]
  },
  {
   "cell_type": "markdown",
   "metadata": {},
   "source": [
    "From the above visualizations, Drama, Comedy, Action, Thriller, and Adventure are the top five genres based on the highest count of ratings. This implies a significant user preference for these genres. This suggests that these genres have a broad appeal and attract a larger audience, potentially reflecting mainstream tastes. While high ratings are a positive indicator of user satisfaction, the sheer volume of ratings for these genres indicates a consistent and widespread interest among users. \n",
    "\n",
    "Stakeholders can interpret this insight as an opportunity to prioritize and invest in content production and recommendations within these popular genres to cater to the majority of the user base and enhance overall platform engagement."
   ]
  },
  {
   "cell_type": "markdown",
   "metadata": {},
   "source": [
    "### __Top 5 Most Watched Movies.__"
   ]
  },
  {
   "cell_type": "code",
   "execution_count": 12,
   "metadata": {},
   "outputs": [
    {
     "data": {
      "image/png": "[encoded data removed]",
      "text/plain": [
       "<Figure size 936x432 with 1 Axes>"
      ]
     },
     "metadata": {},
     "output_type": "display_data"
    }
   ],
   "source": [
    "# Group by movie title and count the number of ratings, then sort in descending order\n",
    "top_watched_movies = data.groupby('title')['rating'].count().sort_values(ascending=False).head()\n",
    "\n",
    "# list of custom colors for the bars\n",
    "custom_colors = ['#06837f', '#02cecb', '#b4ffff', '#f8e16c', '#fed811']\n",
    "\n",
    "# bar plot to show top watched movies.\n",
    "plt.figure(figsize=(13, 6))\n",
    "ax = top_watched_movies.plot(kind='bar', color=custom_colors)\n",
    "plt.title('Top 5 Most Watched Movies')\n",
    "plt.xlabel('Movie Title')\n",
    "plt.ylabel('Number of Ratings')\n",
    "plt.xticks(rotation=45, ha='right')\n",
    "plt.tight_layout()"
   ]
  },
  {
   "cell_type": "markdown",
   "metadata": {},
   "source": [
    "### __Visualization of Highest Rated Movies__"
   ]
  },
  {
   "cell_type": "code",
   "execution_count": 13,
   "metadata": {},
   "outputs": [
    {
     "data": {
      "image/png": "[encoded data removed]",
      "text/plain": [
       "<Figure size 936x432 with 1 Axes>"
      ]
     },
     "metadata": {},
     "output_type": "display_data"
    }
   ],
   "source": [
    "# Count the number of ratings for each movie\n",
    "movie_ratings_count = data.groupby('title')['userId'].count().reset_index(name='num_ratings')\n",
    "\n",
    "# Filter movies with at least a hundred ratings\n",
    "popular_movies = movie_ratings_count[movie_ratings_count['num_ratings'] >= 100]\n",
    "\n",
    "# Merge the original data with the filtered popular movies\n",
    "filtered_data = pd.merge(data, popular_movies, on='title', how='inner')\n",
    "\n",
    "# Calculate average ratings for each movie\n",
    "average_ratings = filtered_data.groupby('title')['rating'].mean().reset_index()\n",
    "\n",
    "# Rename the columns for clarity\n",
    "average_ratings.columns = ['title', 'avg_rating']\n",
    "\n",
    "# Sort the movies by average rating in descending order\n",
    "average_ratings = average_ratings.sort_values(by='avg_rating', ascending=False)\n",
    "\n",
    "# bar plot to visualize the top 10 movies by average rating\n",
    "plt.figure(figsize=(13, 6))\n",
    "sns.barplot(x=\"avg_rating\", y=\"title\", data=round(average_ratings.head(10), 2), palette=\"viridis\")\n",
    "plt.title(\"Top 10 Movies by Average Rating (Minimum 100 Ratings)\")\n",
    "plt.xlabel(\"Average Rating\")\n",
    "plt.ylabel(\"Movie Title\")\n",
    "plt.show()\n"
   ]
  },
  {
   "cell_type": "markdown",
   "metadata": {},
   "source": [
    "The bar graph represents a visualization of theTop 10 highest rated movies. It provides insights into user preferences and the popularity of specific films on the platform. By analyzing the ratings, stakeholders can identify the movies that resonate most positively with the audience. This information is valuable for content curation, marketing strategies, and potentially influencing future production decisions. Additionally, the visualization allows stakeholders to recognize trends or patterns in user preferences, contributing to a better understanding of the platform's content landscape and aiding decision-making processes for recommendations and promotions."
   ]
  },
  {
   "cell_type": "markdown",
   "metadata": {},
   "source": [
    "**Objective 3-** To identify and analyze movies that have received the highest ratings and are also the most-watched by users.By combining these criteria, we gain insights into movies that are both critically acclaimed and widely appreciated by the audience."
   ]
  },
  {
   "cell_type": "markdown",
   "metadata": {},
   "source": [
    "### __Top 10 Movies by Combined Metric (Most Watched and Highest Rated)__"
   ]
  },
  {
   "cell_type": "code",
   "execution_count": 14,
   "metadata": {},
   "outputs": [
    {
     "data": {
      "image/png": "[encoded data removed]",
      "text/plain": [
       "<Figure size 936x432 with 1 Axes>"
      ]
     },
     "metadata": {},
     "output_type": "display_data"
    }
   ],
   "source": [
    "# Count the number of ratings for each movie\n",
    "movie_ratings_count = data.groupby('title')['userId'].count().reset_index(name='num_ratings')\n",
    "\n",
    "# Filter movies with at least a hundred ratings\n",
    "popular_movies = movie_ratings_count[movie_ratings_count['num_ratings'] >= 100]\n",
    "\n",
    "# Merge the original data with the filtered popular movies\n",
    "filtered_data = pd.merge(data, popular_movies, on='title', how='inner')\n",
    "\n",
    "# Calculate average ratings for each movie\n",
    "average_ratings = filtered_data.groupby('title')['rating'].mean().reset_index()\n",
    "\n",
    "# Calculate a combined metric (e.g., weighted sum of average rating and log-transformed number of ratings)\n",
    "filtered_data['combined_metric'] = filtered_data['rating'] * (filtered_data['num_ratings'].apply(lambda x: min(1, x / 100)))  # Adjust the weight as needed\n",
    "\n",
    "# Sort the movies by the combined metric in descending order\n",
    "sorted_movies = filtered_data.groupby('title')['combined_metric'].sum().reset_index()\n",
    "sorted_movies = sorted_movies.sort_values(by='combined_metric', ascending=False)\n",
    "\n",
    "# bar plot to visualize the top 10 movies by the combined metric\n",
    "plt.figure(figsize=(13, 6))\n",
    "sns.barplot(x=\"combined_metric\", y=\"title\", data=sorted_movies.head(10), palette=\"viridis\")\n",
    "plt.title(\"Top 10 Movies by Combined Metric (Most Watched and Highest Rated)\")\n",
    "plt.xlabel(\"Combined Metric\")\n",
    "plt.ylabel(\"Movie Title\")\n",
    "plt.show()\n"
   ]
  },
  {
   "cell_type": "markdown",
   "metadata": {},
   "source": [
    "Creating a combined metric for the top 10 movies based on both the number of views and the highest ratings offers valuable insights into user preferences and overall popularity. The above visualization highlights movies that not only attract a significant audience but also manage to maintain high user satisfaction. The intersection of most-watched and highly-rated movies signifies a sweet spot where a film captures widespread attention while delivering a positive viewing experience. Stakeholders can use this information to identify blockbuster hits that resonate with a broad audience and potentially leverage these insights for marketing, content creation, or strategic decision-making. It also helps in understanding the correlation between popularity and user satisfaction, guiding future content recommendations and system improvements."
   ]
  },
  {
   "cell_type": "markdown",
   "metadata": {},
   "source": [
    "After completing the exploratory data analysis (EDA), we have gained insights into the underlying patterns within the data. With this understanding, we are ready to initiate the construction of our recommendation systems."
   ]
  },
  {
   "cell_type": "markdown",
   "metadata": {},
   "source": [
    "## __RECOMMENDATION SYSTEM GENERATION__\n",
    "Let's start with **content-based filtering**."
   ]
  },
  {
   "cell_type": "markdown",
   "metadata": {},
   "source": [
    "### __CONTENT-BASED FILTERING__\n",
    "Content-based filtering using genres adds a valuable dimension to the recommendation system, offering personalized suggestions rooted in the thematic characteristics of movies. This approach complements collaborative filtering methods, contributing to a more robust and accurate movie recommendation system."
   ]
  },
  {
   "cell_type": "markdown",
   "metadata": {},
   "source": [
    "The `Class` below, MovieRecommendation, encapsulates the functionalities for movie recommendations. The __init__ method initializes the object with the movie DataFrame (df), sigmoid kernel matrix (sig), and indices mapping (indices). The give_rec method provides movie recommendations based on a given title, utilizing the sigmoid kernel matrix and indices mapping. The get_title method retrieves movie title and genres based on text input. The class allows for organized and modular movie recommendation operations."
   ]
  },
  {
   "cell_type": "code",
   "execution_count": 15,
   "metadata": {},
   "outputs": [],
   "source": [
    "class MovieRecommendation:\n",
    "    def __init__(self, df, sig, indices):\n",
    "        \"\"\"\n",
    "        Initialize the MovieRecommendation object.\n",
    "\n",
    "        Parameters:\n",
    "        - df (DataFrame): The movie DataFrame.\n",
    "        - sig (array): The sigmoid kernel matrix representing content similarity.\n",
    "        - indices (Series): The index mapping for movie titles.\n",
    "\n",
    "        Returns:\n",
    "        - None\n",
    "        \"\"\"\n",
    "        self.df = df\n",
    "        self.sig = sig\n",
    "        self.indices = indices\n",
    "\n",
    "    def give_rec(self, title):\n",
    "        \"\"\"\n",
    "        Get movie recommendations based on title.\n",
    "\n",
    "        Parameters:\n",
    "        - title (str): The title of the movie for which recommendations are sought.\n",
    "\n",
    "        Returns:\n",
    "        - DataFrame: Top 10 recommended movies with similar content.\n",
    "        \"\"\"\n",
    "        try:\n",
    "            # Get title and genres using the input\n",
    "            title, genres = self.get_title(title)\n",
    "            \n",
    "            # Print information about the input movie\n",
    "            if title:\n",
    "                print(f\"Recommendation for {title}\")\n",
    "                print(\"Genres: \", genres)\n",
    "            \n",
    "            # Get the index of the input movie\n",
    "            idx = self.indices[title]\n",
    "            \n",
    "            # Get pairwise similarity scores for the input movie\n",
    "            sig_scores = list(enumerate(self.sig[idx]))\n",
    "\n",
    "            # Sort the movies based on similarity scores\n",
    "            sig_scores = sorted(sig_scores, key=lambda x: x[1], reverse=True)\n",
    "\n",
    "            # Retrieve the indices of the top 10 most similar movies\n",
    "            n = int(input('How many recommendations do you need? '))\n",
    "            sig_scores = sig_scores[1:n+2]\n",
    "            movie_indices = [i[0] for i in sig_scores]\n",
    "\n",
    "            # Return the DataFrame of top 10 recommended movies\n",
    "            return self.df.iloc[movie_indices].drop_duplicates()\n",
    "\n",
    "        except Exception as e:\n",
    "            print(e)\n",
    "            return \"Error!!!\"\n",
    "\n",
    "    def get_title(self, text=None):\n",
    "        \"\"\"\n",
    "        Get movie title and genres based on text input.\n",
    "\n",
    "        Parameters:\n",
    "        - text (str): Optional text input for movie name.\n",
    "\n",
    "        Returns:\n",
    "        - tuple: (title, genres) of the movie.\n",
    "        \"\"\"\n",
    "        text = str(input('Enter a movie name: ')) if text is None else text\n",
    "        mask = self.df['title'].str.contains(text, case=False, regex=False)\n",
    "        title = self.df.loc[mask, 'title'].head(1).values[0] if any(mask) else None\n",
    "        \n",
    "        if not title:\n",
    "            print(\"Please enter a valid title !!!\")\n",
    "            return None, None\n",
    "\n",
    "        return title, self.df.loc[mask].head(1)[\"genres\"].values[0]"
   ]
  },
  {
   "cell_type": "code",
   "execution_count": 16,
   "metadata": {},
   "outputs": [
    {
     "data": {
      "text/plain": [
       "0         Adventure|Animation|Children|Comedy|Fantasy\n",
       "1         Adventure|Animation|Children|Comedy|Fantasy\n",
       "2         Adventure|Animation|Children|Comedy|Fantasy\n",
       "3         Adventure|Animation|Children|Comedy|Fantasy\n",
       "4         Adventure|Animation|Children|Comedy|Fantasy\n",
       "                             ...                     \n",
       "100831                Action|Animation|Comedy|Fantasy\n",
       "100832                       Animation|Comedy|Fantasy\n",
       "100833                                          Drama\n",
       "100834                               Action|Animation\n",
       "100835                                         Comedy\n",
       "Name: genres, Length: 100836, dtype: object"
      ]
     },
     "execution_count": 16,
     "metadata": {},
     "output_type": "execute_result"
    }
   ],
   "source": [
    "data['genres']"
   ]
  },
  {
   "cell_type": "markdown",
   "metadata": {},
   "source": [
    "In the cell below, the dataset is preprocessed to create a unique subset of movies by removing duplicate entries based on the 'movieId' and keeping only the first occurrence. Subsequently, a TfidfVectorizer is employed to transform the textual information in the 'genres' column into a numerical representation, considering unigrams, bigrams, and trigrams while excluding terms that appear in fewer than three documents and removing common English stop words. NaN values in the 'genres' column are replaced with empty strings, and pipe separators are substituted with commas. The resulting 'genres' column is then displayed to verify the successful preprocessing steps, setting the stage for further content-based filtering using genre information for a recommendation system in a project."
   ]
  },
  {
   "cell_type": "code",
   "execution_count": 17,
   "metadata": {},
   "outputs": [
    {
     "name": "stderr",
     "output_type": "stream",
     "text": [
      "<ipython-input-17-659ebd598639>:16: SettingWithCopyWarning: \n",
      "A value is trying to be set on a copy of a slice from a DataFrame.\n",
      "Try using .loc[row_indexer,col_indexer] = value instead\n",
      "\n",
      "See the caveats in the documentation: https://pandas.pydata.org/pandas-docs/stable/user_guide/indexing.html#returning-a-view-versus-a-copy\n",
      "  df_unique['genres'] = df_unique['genres'].fillna('')\n",
      "<ipython-input-17-659ebd598639>:19: SettingWithCopyWarning: \n",
      "A value is trying to be set on a copy of a slice from a DataFrame.\n",
      "Try using .loc[row_indexer,col_indexer] = value instead\n",
      "\n",
      "See the caveats in the documentation: https://pandas.pydata.org/pandas-docs/stable/user_guide/indexing.html#returning-a-view-versus-a-copy\n",
      "  df_unique['genres'] = df_unique['genres'].map(lambda x: \", \".join(x.split(\"|\")))\n"
     ]
    },
    {
     "data": {
      "text/plain": [
       "0      Adventure, Animation, Children, Comedy, Fantasy\n",
       "215                       Adventure, Children, Fantasy\n",
       "325                                    Comedy, Romance\n",
       "377                             Comedy, Drama, Romance\n",
       "384                                             Comedy\n",
       "Name: genres, dtype: object"
      ]
     },
     "execution_count": 17,
     "metadata": {},
     "output_type": "execute_result"
    }
   ],
   "source": [
    "# Remove duplicate rows based on 'movieId', keeping the first occurrence\n",
    "df_unique = data.drop_duplicates(subset='movieId', keep='first')\n",
    "\n",
    "# Initialize a TfidfVectorizer with specified parameters\n",
    "tfv = TfidfVectorizer(\n",
    "    min_df=3,                # Ignore terms that appear in less than 3 documents\n",
    "    max_features=None,        # No limit on the number of features\n",
    "    strip_accents='unicode',  # Unicode text normalization\n",
    "    analyzer='word',          # Analyze words\n",
    "    token_pattern=r'\\w{1,}',   # Regular expression for extracting words\n",
    "    ngram_range=(1, 3),       # Include unigrams, bigrams, and trigrams\n",
    "    stop_words='english'      # Remove common English stop words\n",
    ")\n",
    "\n",
    "# Fill NaN values in the 'genres' column with an empty string\n",
    "df_unique['genres'] = df_unique['genres'].fillna('')\n",
    "\n",
    "# Replace the pipes '|' from the 'genres' column with commas\n",
    "df_unique['genres'] = df_unique['genres'].map(lambda x: \", \".join(x.split(\"|\")))\n",
    "\n",
    "# Display the genres column after preprocessing\n",
    "df_unique['genres'].head()\n"
   ]
  },
  {
   "cell_type": "code",
   "execution_count": 18,
   "metadata": {},
   "outputs": [
    {
     "data": {
      "text/plain": [
       "<9724x401 sparse matrix of type '<class 'numpy.float64'>'\n",
       "\twith 42793 stored elements in Compressed Sparse Row format>"
      ]
     },
     "execution_count": 18,
     "metadata": {},
     "output_type": "execute_result"
    }
   ],
   "source": [
    "# Transform the 'genres' column into a TF-IDF matrix\n",
    "tfv_matrix = tfv.fit_transform(df_unique['genres'])\n",
    "tfv_matrix"
   ]
  },
  {
   "cell_type": "code",
   "execution_count": 19,
   "metadata": {},
   "outputs": [],
   "source": [
    "# Compute the sigmoid kernel\n",
    "sig = sigmoid_kernel(tfv_matrix, tfv_matrix)"
   ]
  },
  {
   "cell_type": "code",
   "execution_count": 20,
   "metadata": {},
   "outputs": [
    {
     "data": {
      "text/html": [
       "<div>\n",
       "<style scoped>\n",
       "    .dataframe tbody tr th:only-of-type {\n",
       "        vertical-align: middle;\n",
       "    }\n",
       "\n",
       "    .dataframe tbody tr th {\n",
       "        vertical-align: top;\n",
       "    }\n",
       "\n",
       "    .dataframe thead th {\n",
       "        text-align: right;\n",
       "    }\n",
       "</style>\n",
       "<table border=\"1\" class=\"dataframe\">\n",
       "  <thead>\n",
       "    <tr style=\"text-align: right;\">\n",
       "      <th></th>\n",
       "      <th>movieId</th>\n",
       "      <th>title</th>\n",
       "      <th>genres</th>\n",
       "      <th>userId</th>\n",
       "      <th>rating</th>\n",
       "    </tr>\n",
       "  </thead>\n",
       "  <tbody>\n",
       "    <tr>\n",
       "      <th>0</th>\n",
       "      <td>1</td>\n",
       "      <td>Toy Story (1995)</td>\n",
       "      <td>Adventure, Animation, Children, Comedy, Fantasy</td>\n",
       "      <td>1</td>\n",
       "      <td>4.0</td>\n",
       "    </tr>\n",
       "    <tr>\n",
       "      <th>215</th>\n",
       "      <td>2</td>\n",
       "      <td>Jumanji (1995)</td>\n",
       "      <td>Adventure, Children, Fantasy</td>\n",
       "      <td>6</td>\n",
       "      <td>4.0</td>\n",
       "    </tr>\n",
       "    <tr>\n",
       "      <th>325</th>\n",
       "      <td>3</td>\n",
       "      <td>Grumpier Old Men (1995)</td>\n",
       "      <td>Comedy, Romance</td>\n",
       "      <td>1</td>\n",
       "      <td>4.0</td>\n",
       "    </tr>\n",
       "    <tr>\n",
       "      <th>377</th>\n",
       "      <td>4</td>\n",
       "      <td>Waiting to Exhale (1995)</td>\n",
       "      <td>Comedy, Drama, Romance</td>\n",
       "      <td>6</td>\n",
       "      <td>3.0</td>\n",
       "    </tr>\n",
       "    <tr>\n",
       "      <th>384</th>\n",
       "      <td>5</td>\n",
       "      <td>Father of the Bride Part II (1995)</td>\n",
       "      <td>Comedy</td>\n",
       "      <td>6</td>\n",
       "      <td>5.0</td>\n",
       "    </tr>\n",
       "  </tbody>\n",
       "</table>\n",
       "</div>"
      ],
      "text/plain": [
       "     movieId                               title  \\\n",
       "0          1                    Toy Story (1995)   \n",
       "215        2                      Jumanji (1995)   \n",
       "325        3             Grumpier Old Men (1995)   \n",
       "377        4            Waiting to Exhale (1995)   \n",
       "384        5  Father of the Bride Part II (1995)   \n",
       "\n",
       "                                              genres  userId  rating  \n",
       "0    Adventure, Animation, Children, Comedy, Fantasy       1     4.0  \n",
       "215                     Adventure, Children, Fantasy       6     4.0  \n",
       "325                                  Comedy, Romance       1     4.0  \n",
       "377                           Comedy, Drama, Romance       6     3.0  \n",
       "384                                           Comedy       6     5.0  "
      ]
     },
     "execution_count": 20,
     "metadata": {},
     "output_type": "execute_result"
    }
   ],
   "source": [
    "new_df = df_unique.drop(columns=['timestamp', 'hour', 'month', 'month_name'], axis=1)\n",
    "new_df.head()"
   ]
  },
  {
   "cell_type": "code",
   "execution_count": 21,
   "metadata": {},
   "outputs": [
    {
     "data": {
      "text/plain": [
       "title\n",
       "Toy Story (1995)                                  0\n",
       "Jumanji (1995)                                  215\n",
       "Grumpier Old Men (1995)                         325\n",
       "Waiting to Exhale (1995)                        377\n",
       "Father of the Bride Part II (1995)              384\n",
       "                                              ...  \n",
       "Black Butler: Book of the Atlantic (2017)    100831\n",
       "No Game No Life: Zero (2017)                 100832\n",
       "Flint (2017)                                 100833\n",
       "Bungo Stray Dogs: Dead Apple (2018)          100834\n",
       "Andrew Dice Clay: Dice Rules (1991)          100835\n",
       "Length: 9724, dtype: int64"
      ]
     },
     "execution_count": 21,
     "metadata": {},
     "output_type": "execute_result"
    }
   ],
   "source": [
    "# Create a Series with movie indices using movie titles as index\n",
    "indices = pd.Series(new_df.index, index=new_df['title']).drop_duplicates()\n",
    "indices\n"
   ]
  },
  {
   "cell_type": "code",
   "execution_count": 22,
   "metadata": {},
   "outputs": [
    {
     "name": "stdout",
     "output_type": "stream",
     "text": [
      "Enter a movie name: SuperMan\n"
     ]
    },
    {
     "data": {
      "text/plain": [
       "('Superman (1978)', 'Action, Adventure, Sci-Fi')"
      ]
     },
     "execution_count": 22,
     "metadata": {},
     "output_type": "execute_result"
    }
   ],
   "source": [
    "# Testing the class\n",
    "mr = MovieRecommendation(new_df, sig, indices)\n",
    "mr.get_title()"
   ]
  },
  {
   "cell_type": "code",
   "execution_count": 23,
   "metadata": {},
   "outputs": [
    {
     "name": "stdout",
     "output_type": "stream",
     "text": [
      "Recommendation for Batman Forever (1995)\n",
      "Genres:  Action, Adventure, Comedy, Crime\n",
      "How many recommendations do you need? 5\n"
     ]
    },
    {
     "data": {
      "text/html": [
       "<div>\n",
       "<style scoped>\n",
       "    .dataframe tbody tr th:only-of-type {\n",
       "        vertical-align: middle;\n",
       "    }\n",
       "\n",
       "    .dataframe tbody tr th {\n",
       "        vertical-align: top;\n",
       "    }\n",
       "\n",
       "    .dataframe thead th {\n",
       "        text-align: right;\n",
       "    }\n",
       "</style>\n",
       "<table border=\"1\" class=\"dataframe\">\n",
       "  <thead>\n",
       "    <tr style=\"text-align: right;\">\n",
       "      <th></th>\n",
       "      <th>movieId</th>\n",
       "      <th>title</th>\n",
       "      <th>genres</th>\n",
       "      <th>userId</th>\n",
       "      <th>rating</th>\n",
       "    </tr>\n",
       "  </thead>\n",
       "  <tbody>\n",
       "    <tr>\n",
       "      <th>6853</th>\n",
       "      <td>260</td>\n",
       "      <td>Star Wars: Episode IV - A New Hope (1977)</td>\n",
       "      <td>Action, Adventure, Sci-Fi</td>\n",
       "      <td>1</td>\n",
       "      <td>5.0</td>\n",
       "    </tr>\n",
       "    <tr>\n",
       "      <th>8431</th>\n",
       "      <td>316</td>\n",
       "      <td>Stargate (1994)</td>\n",
       "      <td>Action, Adventure, Sci-Fi</td>\n",
       "      <td>1</td>\n",
       "      <td>3.0</td>\n",
       "    </tr>\n",
       "    <tr>\n",
       "      <th>12332</th>\n",
       "      <td>442</td>\n",
       "      <td>Demolition Man (1993)</td>\n",
       "      <td>Action, Adventure, Sci-Fi</td>\n",
       "      <td>18</td>\n",
       "      <td>3.0</td>\n",
       "    </tr>\n",
       "    <tr>\n",
       "      <th>24643</th>\n",
       "      <td>1196</td>\n",
       "      <td>Star Wars: Episode V - The Empire Strikes Back...</td>\n",
       "      <td>Action, Adventure, Sci-Fi</td>\n",
       "      <td>1</td>\n",
       "      <td>5.0</td>\n",
       "    </tr>\n",
       "    <tr>\n",
       "      <th>25865</th>\n",
       "      <td>1210</td>\n",
       "      <td>Star Wars: Episode VI - Return of the Jedi (1983)</td>\n",
       "      <td>Action, Adventure, Sci-Fi</td>\n",
       "      <td>1</td>\n",
       "      <td>5.0</td>\n",
       "    </tr>\n",
       "    <tr>\n",
       "      <th>30740</th>\n",
       "      <td>1375</td>\n",
       "      <td>Star Trek III: The Search for Spock (1984)</td>\n",
       "      <td>Action, Adventure, Sci-Fi</td>\n",
       "      <td>17</td>\n",
       "      <td>3.5</td>\n",
       "    </tr>\n",
       "  </tbody>\n",
       "</table>\n",
       "</div>"
      ],
      "text/plain": [
       "       movieId                                              title  \\\n",
       "6853       260          Star Wars: Episode IV - A New Hope (1977)   \n",
       "8431       316                                    Stargate (1994)   \n",
       "12332      442                              Demolition Man (1993)   \n",
       "24643     1196  Star Wars: Episode V - The Empire Strikes Back...   \n",
       "25865     1210  Star Wars: Episode VI - Return of the Jedi (1983)   \n",
       "30740     1375         Star Trek III: The Search for Spock (1984)   \n",
       "\n",
       "                          genres  userId  rating  \n",
       "6853   Action, Adventure, Sci-Fi       1     5.0  \n",
       "8431   Action, Adventure, Sci-Fi       1     3.0  \n",
       "12332  Action, Adventure, Sci-Fi      18     3.0  \n",
       "24643  Action, Adventure, Sci-Fi       1     5.0  \n",
       "25865  Action, Adventure, Sci-Fi       1     5.0  \n",
       "30740  Action, Adventure, Sci-Fi      17     3.5  "
      ]
     },
     "execution_count": 23,
     "metadata": {},
     "output_type": "execute_result"
    }
   ],
   "source": [
    "mr.give_rec('Batman')"
   ]
  },
  {
   "cell_type": "markdown",
   "metadata": {},
   "source": [
    "Result of the Content-Based \n",
    "As we can see, the system is functional, however, it has some fundamental flaws. First, it just makes genre recommendations, which is limited and shallow because it misses some important patterns that are firmly ingrained in our dataset.\n",
    "\n",
    "Secondly, ratings, a strong preference signal, aren't used, thus this method isn't as effective overally and\n",
    "lastly, as was already mentioned, the recommendation is quite \"rigid,\" which means that if a movie is classified as Action, Adventure, or Sci-Fi, then that person gets to choose from movies that fall only within those specific categories. \n",
    "\n",
    "We must employ a collaborative filtering strategy for a more adaptable system that digs deeper into the data collection.\n"
   ]
  },
  {
   "cell_type": "markdown",
   "metadata": {},
   "source": [
    "###  __COLLABORATIVE FILTERING__"
   ]
  },
  {
   "cell_type": "markdown",
   "metadata": {},
   "source": [
    "Collaborative filtering is another prominent recommendation system technique that leverages user behavior data. It consists of either Memory-based(user-based or item-based) and model-based algorithms.\n",
    "\n",
    "The collaborative filtering approach, whether memory-based or model-based, is more effective in capturing user preferences and making personalized recommendations than content-based filtering."
   ]
  },
  {
   "cell_type": "markdown",
   "metadata": {},
   "source": [
    "### Memory-Based Method\n",
    "Under Memory-based, we will analyze the user-based approach which identifies similar users based on their preferences.This method relies on similarity metrics and have been implemented to recommend movies."
   ]
  },
  {
   "cell_type": "markdown",
   "metadata": {},
   "source": [
    "#### User-Based Approach\n"
   ]
  },
  {
   "cell_type": "code",
   "execution_count": 24,
   "metadata": {},
   "outputs": [
    {
     "data": {
      "text/html": [
       "<div>\n",
       "<style scoped>\n",
       "    .dataframe tbody tr th:only-of-type {\n",
       "        vertical-align: middle;\n",
       "    }\n",
       "\n",
       "    .dataframe tbody tr th {\n",
       "        vertical-align: top;\n",
       "    }\n",
       "\n",
       "    .dataframe thead th {\n",
       "        text-align: right;\n",
       "    }\n",
       "</style>\n",
       "<table border=\"1\" class=\"dataframe\">\n",
       "  <thead>\n",
       "    <tr style=\"text-align: right;\">\n",
       "      <th>title</th>\n",
       "      <th>'71 (2014)</th>\n",
       "      <th>'Hellboy': The Seeds of Creation (2004)</th>\n",
       "      <th>'Round Midnight (1986)</th>\n",
       "      <th>'Salem's Lot (2004)</th>\n",
       "      <th>'Til There Was You (1997)</th>\n",
       "      <th>'Tis the Season for Love (2015)</th>\n",
       "      <th>'burbs, The (1989)</th>\n",
       "      <th>'night Mother (1986)</th>\n",
       "      <th>(500) Days of Summer (2009)</th>\n",
       "      <th>*batteries not included (1987)</th>\n",
       "      <th>...</th>\n",
       "      <th>Zulu (2013)</th>\n",
       "      <th>[REC] (2007)</th>\n",
       "      <th>[REC]² (2009)</th>\n",
       "      <th>[REC]³ 3 Génesis (2012)</th>\n",
       "      <th>anohana: The Flower We Saw That Day - The Movie (2013)</th>\n",
       "      <th>eXistenZ (1999)</th>\n",
       "      <th>xXx (2002)</th>\n",
       "      <th>xXx: State of the Union (2005)</th>\n",
       "      <th>¡Three Amigos! (1986)</th>\n",
       "      <th>À nous la liberté (Freedom for Us) (1931)</th>\n",
       "    </tr>\n",
       "    <tr>\n",
       "      <th>userId</th>\n",
       "      <th></th>\n",
       "      <th></th>\n",
       "      <th></th>\n",
       "      <th></th>\n",
       "      <th></th>\n",
       "      <th></th>\n",
       "      <th></th>\n",
       "      <th></th>\n",
       "      <th></th>\n",
       "      <th></th>\n",
       "      <th></th>\n",
       "      <th></th>\n",
       "      <th></th>\n",
       "      <th></th>\n",
       "      <th></th>\n",
       "      <th></th>\n",
       "      <th></th>\n",
       "      <th></th>\n",
       "      <th></th>\n",
       "      <th></th>\n",
       "      <th></th>\n",
       "    </tr>\n",
       "  </thead>\n",
       "  <tbody>\n",
       "    <tr>\n",
       "      <th>601</th>\n",
       "      <td>NaN</td>\n",
       "      <td>NaN</td>\n",
       "      <td>NaN</td>\n",
       "      <td>NaN</td>\n",
       "      <td>NaN</td>\n",
       "      <td>NaN</td>\n",
       "      <td>NaN</td>\n",
       "      <td>NaN</td>\n",
       "      <td>NaN</td>\n",
       "      <td>NaN</td>\n",
       "      <td>...</td>\n",
       "      <td>NaN</td>\n",
       "      <td>NaN</td>\n",
       "      <td>NaN</td>\n",
       "      <td>NaN</td>\n",
       "      <td>NaN</td>\n",
       "      <td>NaN</td>\n",
       "      <td>NaN</td>\n",
       "      <td>NaN</td>\n",
       "      <td>NaN</td>\n",
       "      <td>NaN</td>\n",
       "    </tr>\n",
       "    <tr>\n",
       "      <th>602</th>\n",
       "      <td>NaN</td>\n",
       "      <td>NaN</td>\n",
       "      <td>NaN</td>\n",
       "      <td>NaN</td>\n",
       "      <td>NaN</td>\n",
       "      <td>NaN</td>\n",
       "      <td>NaN</td>\n",
       "      <td>NaN</td>\n",
       "      <td>NaN</td>\n",
       "      <td>NaN</td>\n",
       "      <td>...</td>\n",
       "      <td>NaN</td>\n",
       "      <td>NaN</td>\n",
       "      <td>NaN</td>\n",
       "      <td>NaN</td>\n",
       "      <td>NaN</td>\n",
       "      <td>NaN</td>\n",
       "      <td>NaN</td>\n",
       "      <td>NaN</td>\n",
       "      <td>NaN</td>\n",
       "      <td>NaN</td>\n",
       "    </tr>\n",
       "    <tr>\n",
       "      <th>603</th>\n",
       "      <td>NaN</td>\n",
       "      <td>NaN</td>\n",
       "      <td>NaN</td>\n",
       "      <td>NaN</td>\n",
       "      <td>NaN</td>\n",
       "      <td>NaN</td>\n",
       "      <td>NaN</td>\n",
       "      <td>NaN</td>\n",
       "      <td>NaN</td>\n",
       "      <td>NaN</td>\n",
       "      <td>...</td>\n",
       "      <td>NaN</td>\n",
       "      <td>NaN</td>\n",
       "      <td>NaN</td>\n",
       "      <td>NaN</td>\n",
       "      <td>NaN</td>\n",
       "      <td>5.0</td>\n",
       "      <td>NaN</td>\n",
       "      <td>NaN</td>\n",
       "      <td>NaN</td>\n",
       "      <td>NaN</td>\n",
       "    </tr>\n",
       "    <tr>\n",
       "      <th>604</th>\n",
       "      <td>NaN</td>\n",
       "      <td>NaN</td>\n",
       "      <td>NaN</td>\n",
       "      <td>NaN</td>\n",
       "      <td>NaN</td>\n",
       "      <td>NaN</td>\n",
       "      <td>NaN</td>\n",
       "      <td>NaN</td>\n",
       "      <td>NaN</td>\n",
       "      <td>NaN</td>\n",
       "      <td>...</td>\n",
       "      <td>NaN</td>\n",
       "      <td>NaN</td>\n",
       "      <td>NaN</td>\n",
       "      <td>NaN</td>\n",
       "      <td>NaN</td>\n",
       "      <td>NaN</td>\n",
       "      <td>NaN</td>\n",
       "      <td>NaN</td>\n",
       "      <td>NaN</td>\n",
       "      <td>NaN</td>\n",
       "    </tr>\n",
       "    <tr>\n",
       "      <th>605</th>\n",
       "      <td>NaN</td>\n",
       "      <td>NaN</td>\n",
       "      <td>NaN</td>\n",
       "      <td>NaN</td>\n",
       "      <td>NaN</td>\n",
       "      <td>NaN</td>\n",
       "      <td>NaN</td>\n",
       "      <td>NaN</td>\n",
       "      <td>NaN</td>\n",
       "      <td>NaN</td>\n",
       "      <td>...</td>\n",
       "      <td>NaN</td>\n",
       "      <td>NaN</td>\n",
       "      <td>NaN</td>\n",
       "      <td>NaN</td>\n",
       "      <td>NaN</td>\n",
       "      <td>NaN</td>\n",
       "      <td>NaN</td>\n",
       "      <td>NaN</td>\n",
       "      <td>NaN</td>\n",
       "      <td>NaN</td>\n",
       "    </tr>\n",
       "    <tr>\n",
       "      <th>606</th>\n",
       "      <td>NaN</td>\n",
       "      <td>NaN</td>\n",
       "      <td>NaN</td>\n",
       "      <td>NaN</td>\n",
       "      <td>NaN</td>\n",
       "      <td>NaN</td>\n",
       "      <td>NaN</td>\n",
       "      <td>NaN</td>\n",
       "      <td>NaN</td>\n",
       "      <td>NaN</td>\n",
       "      <td>...</td>\n",
       "      <td>NaN</td>\n",
       "      <td>NaN</td>\n",
       "      <td>NaN</td>\n",
       "      <td>NaN</td>\n",
       "      <td>NaN</td>\n",
       "      <td>NaN</td>\n",
       "      <td>NaN</td>\n",
       "      <td>NaN</td>\n",
       "      <td>NaN</td>\n",
       "      <td>NaN</td>\n",
       "    </tr>\n",
       "    <tr>\n",
       "      <th>607</th>\n",
       "      <td>NaN</td>\n",
       "      <td>NaN</td>\n",
       "      <td>NaN</td>\n",
       "      <td>NaN</td>\n",
       "      <td>NaN</td>\n",
       "      <td>NaN</td>\n",
       "      <td>NaN</td>\n",
       "      <td>NaN</td>\n",
       "      <td>NaN</td>\n",
       "      <td>NaN</td>\n",
       "      <td>...</td>\n",
       "      <td>NaN</td>\n",
       "      <td>NaN</td>\n",
       "      <td>NaN</td>\n",
       "      <td>NaN</td>\n",
       "      <td>NaN</td>\n",
       "      <td>NaN</td>\n",
       "      <td>NaN</td>\n",
       "      <td>NaN</td>\n",
       "      <td>NaN</td>\n",
       "      <td>NaN</td>\n",
       "    </tr>\n",
       "    <tr>\n",
       "      <th>608</th>\n",
       "      <td>NaN</td>\n",
       "      <td>NaN</td>\n",
       "      <td>NaN</td>\n",
       "      <td>NaN</td>\n",
       "      <td>NaN</td>\n",
       "      <td>NaN</td>\n",
       "      <td>NaN</td>\n",
       "      <td>NaN</td>\n",
       "      <td>NaN</td>\n",
       "      <td>NaN</td>\n",
       "      <td>...</td>\n",
       "      <td>NaN</td>\n",
       "      <td>NaN</td>\n",
       "      <td>NaN</td>\n",
       "      <td>NaN</td>\n",
       "      <td>NaN</td>\n",
       "      <td>4.5</td>\n",
       "      <td>3.5</td>\n",
       "      <td>NaN</td>\n",
       "      <td>NaN</td>\n",
       "      <td>NaN</td>\n",
       "    </tr>\n",
       "    <tr>\n",
       "      <th>609</th>\n",
       "      <td>NaN</td>\n",
       "      <td>NaN</td>\n",
       "      <td>NaN</td>\n",
       "      <td>NaN</td>\n",
       "      <td>NaN</td>\n",
       "      <td>NaN</td>\n",
       "      <td>NaN</td>\n",
       "      <td>NaN</td>\n",
       "      <td>NaN</td>\n",
       "      <td>NaN</td>\n",
       "      <td>...</td>\n",
       "      <td>NaN</td>\n",
       "      <td>NaN</td>\n",
       "      <td>NaN</td>\n",
       "      <td>NaN</td>\n",
       "      <td>NaN</td>\n",
       "      <td>NaN</td>\n",
       "      <td>NaN</td>\n",
       "      <td>NaN</td>\n",
       "      <td>NaN</td>\n",
       "      <td>NaN</td>\n",
       "    </tr>\n",
       "    <tr>\n",
       "      <th>610</th>\n",
       "      <td>4.0</td>\n",
       "      <td>NaN</td>\n",
       "      <td>NaN</td>\n",
       "      <td>NaN</td>\n",
       "      <td>NaN</td>\n",
       "      <td>NaN</td>\n",
       "      <td>NaN</td>\n",
       "      <td>NaN</td>\n",
       "      <td>3.5</td>\n",
       "      <td>NaN</td>\n",
       "      <td>...</td>\n",
       "      <td>NaN</td>\n",
       "      <td>4.0</td>\n",
       "      <td>3.5</td>\n",
       "      <td>3.0</td>\n",
       "      <td>NaN</td>\n",
       "      <td>NaN</td>\n",
       "      <td>2.0</td>\n",
       "      <td>1.5</td>\n",
       "      <td>NaN</td>\n",
       "      <td>NaN</td>\n",
       "    </tr>\n",
       "  </tbody>\n",
       "</table>\n",
       "<p>10 rows × 9719 columns</p>\n",
       "</div>"
      ],
      "text/plain": [
       "title   '71 (2014)  'Hellboy': The Seeds of Creation (2004)  \\\n",
       "userId                                                        \n",
       "601            NaN                                      NaN   \n",
       "602            NaN                                      NaN   \n",
       "603            NaN                                      NaN   \n",
       "604            NaN                                      NaN   \n",
       "605            NaN                                      NaN   \n",
       "606            NaN                                      NaN   \n",
       "607            NaN                                      NaN   \n",
       "608            NaN                                      NaN   \n",
       "609            NaN                                      NaN   \n",
       "610            4.0                                      NaN   \n",
       "\n",
       "title   'Round Midnight (1986)  'Salem's Lot (2004)  \\\n",
       "userId                                                \n",
       "601                        NaN                  NaN   \n",
       "602                        NaN                  NaN   \n",
       "603                        NaN                  NaN   \n",
       "604                        NaN                  NaN   \n",
       "605                        NaN                  NaN   \n",
       "606                        NaN                  NaN   \n",
       "607                        NaN                  NaN   \n",
       "608                        NaN                  NaN   \n",
       "609                        NaN                  NaN   \n",
       "610                        NaN                  NaN   \n",
       "\n",
       "title   'Til There Was You (1997)  'Tis the Season for Love (2015)  \\\n",
       "userId                                                               \n",
       "601                           NaN                              NaN   \n",
       "602                           NaN                              NaN   \n",
       "603                           NaN                              NaN   \n",
       "604                           NaN                              NaN   \n",
       "605                           NaN                              NaN   \n",
       "606                           NaN                              NaN   \n",
       "607                           NaN                              NaN   \n",
       "608                           NaN                              NaN   \n",
       "609                           NaN                              NaN   \n",
       "610                           NaN                              NaN   \n",
       "\n",
       "title   'burbs, The (1989)  'night Mother (1986)  (500) Days of Summer (2009)  \\\n",
       "userId                                                                          \n",
       "601                    NaN                   NaN                          NaN   \n",
       "602                    NaN                   NaN                          NaN   \n",
       "603                    NaN                   NaN                          NaN   \n",
       "604                    NaN                   NaN                          NaN   \n",
       "605                    NaN                   NaN                          NaN   \n",
       "606                    NaN                   NaN                          NaN   \n",
       "607                    NaN                   NaN                          NaN   \n",
       "608                    NaN                   NaN                          NaN   \n",
       "609                    NaN                   NaN                          NaN   \n",
       "610                    NaN                   NaN                          3.5   \n",
       "\n",
       "title   *batteries not included (1987)  ...  Zulu (2013)  [REC] (2007)  \\\n",
       "userId                                  ...                              \n",
       "601                                NaN  ...          NaN           NaN   \n",
       "602                                NaN  ...          NaN           NaN   \n",
       "603                                NaN  ...          NaN           NaN   \n",
       "604                                NaN  ...          NaN           NaN   \n",
       "605                                NaN  ...          NaN           NaN   \n",
       "606                                NaN  ...          NaN           NaN   \n",
       "607                                NaN  ...          NaN           NaN   \n",
       "608                                NaN  ...          NaN           NaN   \n",
       "609                                NaN  ...          NaN           NaN   \n",
       "610                                NaN  ...          NaN           4.0   \n",
       "\n",
       "title   [REC]² (2009)  [REC]³ 3 Génesis (2012)  \\\n",
       "userId                                           \n",
       "601               NaN                      NaN   \n",
       "602               NaN                      NaN   \n",
       "603               NaN                      NaN   \n",
       "604               NaN                      NaN   \n",
       "605               NaN                      NaN   \n",
       "606               NaN                      NaN   \n",
       "607               NaN                      NaN   \n",
       "608               NaN                      NaN   \n",
       "609               NaN                      NaN   \n",
       "610               3.5                      3.0   \n",
       "\n",
       "title   anohana: The Flower We Saw That Day - The Movie (2013)  \\\n",
       "userId                                                           \n",
       "601                                                   NaN        \n",
       "602                                                   NaN        \n",
       "603                                                   NaN        \n",
       "604                                                   NaN        \n",
       "605                                                   NaN        \n",
       "606                                                   NaN        \n",
       "607                                                   NaN        \n",
       "608                                                   NaN        \n",
       "609                                                   NaN        \n",
       "610                                                   NaN        \n",
       "\n",
       "title   eXistenZ (1999)  xXx (2002)  xXx: State of the Union (2005)  \\\n",
       "userId                                                                \n",
       "601                 NaN         NaN                             NaN   \n",
       "602                 NaN         NaN                             NaN   \n",
       "603                 5.0         NaN                             NaN   \n",
       "604                 NaN         NaN                             NaN   \n",
       "605                 NaN         NaN                             NaN   \n",
       "606                 NaN         NaN                             NaN   \n",
       "607                 NaN         NaN                             NaN   \n",
       "608                 4.5         3.5                             NaN   \n",
       "609                 NaN         NaN                             NaN   \n",
       "610                 NaN         2.0                             1.5   \n",
       "\n",
       "title   ¡Three Amigos! (1986)  À nous la liberté (Freedom for Us) (1931)  \n",
       "userId                                                                    \n",
       "601                       NaN                                        NaN  \n",
       "602                       NaN                                        NaN  \n",
       "603                       NaN                                        NaN  \n",
       "604                       NaN                                        NaN  \n",
       "605                       NaN                                        NaN  \n",
       "606                       NaN                                        NaN  \n",
       "607                       NaN                                        NaN  \n",
       "608                       NaN                                        NaN  \n",
       "609                       NaN                                        NaN  \n",
       "610                       NaN                                        NaN  \n",
       "\n",
       "[10 rows x 9719 columns]"
      ]
     },
     "execution_count": 24,
     "metadata": {},
     "output_type": "execute_result"
    }
   ],
   "source": [
    "# pivot table to transform the merged DataFrame into a user-item matrix\n",
    "pivot_table = data.pivot_table(\n",
    "    index='userId',        \n",
    "    columns='title',       \n",
    "    values='rating'        \n",
    ")\n",
    "\n",
    "# print the first 10 rows of the `pivot_matrix`\n",
    "pivot_table.tail(10)"
   ]
  },
  {
   "cell_type": "markdown",
   "metadata": {},
   "source": [
    "The code snippet below creates a user-based matrix for collaborative filtering. It fills missing ratings in each user's row with the mean rating provided by that user. This ensures that the user-based matrix is populated with representative values, facilitating the calculation of user similarities and enhancing the collaborative filtering approach."
   ]
  },
  {
   "cell_type": "code",
   "execution_count": 25,
   "metadata": {},
   "outputs": [
    {
     "data": {
      "text/html": [
       "<div>\n",
       "<style scoped>\n",
       "    .dataframe tbody tr th:only-of-type {\n",
       "        vertical-align: middle;\n",
       "    }\n",
       "\n",
       "    .dataframe tbody tr th {\n",
       "        vertical-align: top;\n",
       "    }\n",
       "\n",
       "    .dataframe thead th {\n",
       "        text-align: right;\n",
       "    }\n",
       "</style>\n",
       "<table border=\"1\" class=\"dataframe\">\n",
       "  <thead>\n",
       "    <tr style=\"text-align: right;\">\n",
       "      <th>title</th>\n",
       "      <th>'71 (2014)</th>\n",
       "      <th>'Hellboy': The Seeds of Creation (2004)</th>\n",
       "      <th>'Round Midnight (1986)</th>\n",
       "      <th>'Salem's Lot (2004)</th>\n",
       "      <th>'Til There Was You (1997)</th>\n",
       "      <th>'Tis the Season for Love (2015)</th>\n",
       "      <th>'burbs, The (1989)</th>\n",
       "      <th>'night Mother (1986)</th>\n",
       "      <th>(500) Days of Summer (2009)</th>\n",
       "      <th>*batteries not included (1987)</th>\n",
       "      <th>...</th>\n",
       "      <th>Zulu (2013)</th>\n",
       "      <th>[REC] (2007)</th>\n",
       "      <th>[REC]² (2009)</th>\n",
       "      <th>[REC]³ 3 Génesis (2012)</th>\n",
       "      <th>anohana: The Flower We Saw That Day - The Movie (2013)</th>\n",
       "      <th>eXistenZ (1999)</th>\n",
       "      <th>xXx (2002)</th>\n",
       "      <th>xXx: State of the Union (2005)</th>\n",
       "      <th>¡Three Amigos! (1986)</th>\n",
       "      <th>À nous la liberté (Freedom for Us) (1931)</th>\n",
       "    </tr>\n",
       "    <tr>\n",
       "      <th>userId</th>\n",
       "      <th></th>\n",
       "      <th></th>\n",
       "      <th></th>\n",
       "      <th></th>\n",
       "      <th></th>\n",
       "      <th></th>\n",
       "      <th></th>\n",
       "      <th></th>\n",
       "      <th></th>\n",
       "      <th></th>\n",
       "      <th></th>\n",
       "      <th></th>\n",
       "      <th></th>\n",
       "      <th></th>\n",
       "      <th></th>\n",
       "      <th></th>\n",
       "      <th></th>\n",
       "      <th></th>\n",
       "      <th></th>\n",
       "      <th></th>\n",
       "      <th></th>\n",
       "    </tr>\n",
       "  </thead>\n",
       "  <tbody>\n",
       "    <tr>\n",
       "      <th>601</th>\n",
       "      <td>4.425743</td>\n",
       "      <td>4.425743</td>\n",
       "      <td>4.425743</td>\n",
       "      <td>4.425743</td>\n",
       "      <td>4.425743</td>\n",
       "      <td>4.425743</td>\n",
       "      <td>4.425743</td>\n",
       "      <td>4.425743</td>\n",
       "      <td>4.425743</td>\n",
       "      <td>4.425743</td>\n",
       "      <td>...</td>\n",
       "      <td>4.425743</td>\n",
       "      <td>4.425743</td>\n",
       "      <td>4.425743</td>\n",
       "      <td>4.425743</td>\n",
       "      <td>4.425743</td>\n",
       "      <td>4.425743</td>\n",
       "      <td>4.425743</td>\n",
       "      <td>4.425743</td>\n",
       "      <td>4.425743</td>\n",
       "      <td>4.425743</td>\n",
       "    </tr>\n",
       "    <tr>\n",
       "      <th>602</th>\n",
       "      <td>3.392593</td>\n",
       "      <td>3.392593</td>\n",
       "      <td>3.392593</td>\n",
       "      <td>3.392593</td>\n",
       "      <td>3.392593</td>\n",
       "      <td>3.392593</td>\n",
       "      <td>3.392593</td>\n",
       "      <td>3.392593</td>\n",
       "      <td>3.392593</td>\n",
       "      <td>3.392593</td>\n",
       "      <td>...</td>\n",
       "      <td>3.392593</td>\n",
       "      <td>3.392593</td>\n",
       "      <td>3.392593</td>\n",
       "      <td>3.392593</td>\n",
       "      <td>3.392593</td>\n",
       "      <td>3.392593</td>\n",
       "      <td>3.392593</td>\n",
       "      <td>3.392593</td>\n",
       "      <td>3.392593</td>\n",
       "      <td>3.392593</td>\n",
       "    </tr>\n",
       "    <tr>\n",
       "      <th>603</th>\n",
       "      <td>3.507953</td>\n",
       "      <td>3.507953</td>\n",
       "      <td>3.507953</td>\n",
       "      <td>3.507953</td>\n",
       "      <td>3.507953</td>\n",
       "      <td>3.507953</td>\n",
       "      <td>3.507953</td>\n",
       "      <td>3.507953</td>\n",
       "      <td>3.507953</td>\n",
       "      <td>3.507953</td>\n",
       "      <td>...</td>\n",
       "      <td>3.507953</td>\n",
       "      <td>3.507953</td>\n",
       "      <td>3.507953</td>\n",
       "      <td>3.507953</td>\n",
       "      <td>3.507953</td>\n",
       "      <td>5.000000</td>\n",
       "      <td>3.507953</td>\n",
       "      <td>3.507953</td>\n",
       "      <td>3.507953</td>\n",
       "      <td>3.507953</td>\n",
       "    </tr>\n",
       "    <tr>\n",
       "      <th>604</th>\n",
       "      <td>3.480000</td>\n",
       "      <td>3.480000</td>\n",
       "      <td>3.480000</td>\n",
       "      <td>3.480000</td>\n",
       "      <td>3.480000</td>\n",
       "      <td>3.480000</td>\n",
       "      <td>3.480000</td>\n",
       "      <td>3.480000</td>\n",
       "      <td>3.480000</td>\n",
       "      <td>3.480000</td>\n",
       "      <td>...</td>\n",
       "      <td>3.480000</td>\n",
       "      <td>3.480000</td>\n",
       "      <td>3.480000</td>\n",
       "      <td>3.480000</td>\n",
       "      <td>3.480000</td>\n",
       "      <td>3.480000</td>\n",
       "      <td>3.480000</td>\n",
       "      <td>3.480000</td>\n",
       "      <td>3.480000</td>\n",
       "      <td>3.480000</td>\n",
       "    </tr>\n",
       "    <tr>\n",
       "      <th>605</th>\n",
       "      <td>3.210407</td>\n",
       "      <td>3.210407</td>\n",
       "      <td>3.210407</td>\n",
       "      <td>3.210407</td>\n",
       "      <td>3.210407</td>\n",
       "      <td>3.210407</td>\n",
       "      <td>3.210407</td>\n",
       "      <td>3.210407</td>\n",
       "      <td>3.210407</td>\n",
       "      <td>3.210407</td>\n",
       "      <td>...</td>\n",
       "      <td>3.210407</td>\n",
       "      <td>3.210407</td>\n",
       "      <td>3.210407</td>\n",
       "      <td>3.210407</td>\n",
       "      <td>3.210407</td>\n",
       "      <td>3.210407</td>\n",
       "      <td>3.210407</td>\n",
       "      <td>3.210407</td>\n",
       "      <td>3.210407</td>\n",
       "      <td>3.210407</td>\n",
       "    </tr>\n",
       "    <tr>\n",
       "      <th>606</th>\n",
       "      <td>3.657399</td>\n",
       "      <td>3.657399</td>\n",
       "      <td>3.657399</td>\n",
       "      <td>3.657399</td>\n",
       "      <td>3.657399</td>\n",
       "      <td>3.657399</td>\n",
       "      <td>3.657399</td>\n",
       "      <td>3.657399</td>\n",
       "      <td>3.657399</td>\n",
       "      <td>3.657399</td>\n",
       "      <td>...</td>\n",
       "      <td>3.657399</td>\n",
       "      <td>3.657399</td>\n",
       "      <td>3.657399</td>\n",
       "      <td>3.657399</td>\n",
       "      <td>3.657399</td>\n",
       "      <td>3.657399</td>\n",
       "      <td>3.657399</td>\n",
       "      <td>3.657399</td>\n",
       "      <td>3.657399</td>\n",
       "      <td>3.657399</td>\n",
       "    </tr>\n",
       "    <tr>\n",
       "      <th>607</th>\n",
       "      <td>3.786096</td>\n",
       "      <td>3.786096</td>\n",
       "      <td>3.786096</td>\n",
       "      <td>3.786096</td>\n",
       "      <td>3.786096</td>\n",
       "      <td>3.786096</td>\n",
       "      <td>3.786096</td>\n",
       "      <td>3.786096</td>\n",
       "      <td>3.786096</td>\n",
       "      <td>3.786096</td>\n",
       "      <td>...</td>\n",
       "      <td>3.786096</td>\n",
       "      <td>3.786096</td>\n",
       "      <td>3.786096</td>\n",
       "      <td>3.786096</td>\n",
       "      <td>3.786096</td>\n",
       "      <td>3.786096</td>\n",
       "      <td>3.786096</td>\n",
       "      <td>3.786096</td>\n",
       "      <td>3.786096</td>\n",
       "      <td>3.786096</td>\n",
       "    </tr>\n",
       "    <tr>\n",
       "      <th>608</th>\n",
       "      <td>3.134176</td>\n",
       "      <td>3.134176</td>\n",
       "      <td>3.134176</td>\n",
       "      <td>3.134176</td>\n",
       "      <td>3.134176</td>\n",
       "      <td>3.134176</td>\n",
       "      <td>3.134176</td>\n",
       "      <td>3.134176</td>\n",
       "      <td>3.134176</td>\n",
       "      <td>3.134176</td>\n",
       "      <td>...</td>\n",
       "      <td>3.134176</td>\n",
       "      <td>3.134176</td>\n",
       "      <td>3.134176</td>\n",
       "      <td>3.134176</td>\n",
       "      <td>3.134176</td>\n",
       "      <td>4.500000</td>\n",
       "      <td>3.500000</td>\n",
       "      <td>3.134176</td>\n",
       "      <td>3.134176</td>\n",
       "      <td>3.134176</td>\n",
       "    </tr>\n",
       "    <tr>\n",
       "      <th>609</th>\n",
       "      <td>3.270270</td>\n",
       "      <td>3.270270</td>\n",
       "      <td>3.270270</td>\n",
       "      <td>3.270270</td>\n",
       "      <td>3.270270</td>\n",
       "      <td>3.270270</td>\n",
       "      <td>3.270270</td>\n",
       "      <td>3.270270</td>\n",
       "      <td>3.270270</td>\n",
       "      <td>3.270270</td>\n",
       "      <td>...</td>\n",
       "      <td>3.270270</td>\n",
       "      <td>3.270270</td>\n",
       "      <td>3.270270</td>\n",
       "      <td>3.270270</td>\n",
       "      <td>3.270270</td>\n",
       "      <td>3.270270</td>\n",
       "      <td>3.270270</td>\n",
       "      <td>3.270270</td>\n",
       "      <td>3.270270</td>\n",
       "      <td>3.270270</td>\n",
       "    </tr>\n",
       "    <tr>\n",
       "      <th>610</th>\n",
       "      <td>4.000000</td>\n",
       "      <td>3.688556</td>\n",
       "      <td>3.688556</td>\n",
       "      <td>3.688556</td>\n",
       "      <td>3.688556</td>\n",
       "      <td>3.688556</td>\n",
       "      <td>3.688556</td>\n",
       "      <td>3.688556</td>\n",
       "      <td>3.500000</td>\n",
       "      <td>3.688556</td>\n",
       "      <td>...</td>\n",
       "      <td>3.688556</td>\n",
       "      <td>4.000000</td>\n",
       "      <td>3.500000</td>\n",
       "      <td>3.000000</td>\n",
       "      <td>3.688556</td>\n",
       "      <td>3.688556</td>\n",
       "      <td>2.000000</td>\n",
       "      <td>1.500000</td>\n",
       "      <td>3.688556</td>\n",
       "      <td>3.688556</td>\n",
       "    </tr>\n",
       "  </tbody>\n",
       "</table>\n",
       "<p>10 rows × 9719 columns</p>\n",
       "</div>"
      ],
      "text/plain": [
       "title   '71 (2014)  'Hellboy': The Seeds of Creation (2004)  \\\n",
       "userId                                                        \n",
       "601       4.425743                                 4.425743   \n",
       "602       3.392593                                 3.392593   \n",
       "603       3.507953                                 3.507953   \n",
       "604       3.480000                                 3.480000   \n",
       "605       3.210407                                 3.210407   \n",
       "606       3.657399                                 3.657399   \n",
       "607       3.786096                                 3.786096   \n",
       "608       3.134176                                 3.134176   \n",
       "609       3.270270                                 3.270270   \n",
       "610       4.000000                                 3.688556   \n",
       "\n",
       "title   'Round Midnight (1986)  'Salem's Lot (2004)  \\\n",
       "userId                                                \n",
       "601                   4.425743             4.425743   \n",
       "602                   3.392593             3.392593   \n",
       "603                   3.507953             3.507953   \n",
       "604                   3.480000             3.480000   \n",
       "605                   3.210407             3.210407   \n",
       "606                   3.657399             3.657399   \n",
       "607                   3.786096             3.786096   \n",
       "608                   3.134176             3.134176   \n",
       "609                   3.270270             3.270270   \n",
       "610                   3.688556             3.688556   \n",
       "\n",
       "title   'Til There Was You (1997)  'Tis the Season for Love (2015)  \\\n",
       "userId                                                               \n",
       "601                      4.425743                         4.425743   \n",
       "602                      3.392593                         3.392593   \n",
       "603                      3.507953                         3.507953   \n",
       "604                      3.480000                         3.480000   \n",
       "605                      3.210407                         3.210407   \n",
       "606                      3.657399                         3.657399   \n",
       "607                      3.786096                         3.786096   \n",
       "608                      3.134176                         3.134176   \n",
       "609                      3.270270                         3.270270   \n",
       "610                      3.688556                         3.688556   \n",
       "\n",
       "title   'burbs, The (1989)  'night Mother (1986)  (500) Days of Summer (2009)  \\\n",
       "userId                                                                          \n",
       "601               4.425743              4.425743                     4.425743   \n",
       "602               3.392593              3.392593                     3.392593   \n",
       "603               3.507953              3.507953                     3.507953   \n",
       "604               3.480000              3.480000                     3.480000   \n",
       "605               3.210407              3.210407                     3.210407   \n",
       "606               3.657399              3.657399                     3.657399   \n",
       "607               3.786096              3.786096                     3.786096   \n",
       "608               3.134176              3.134176                     3.134176   \n",
       "609               3.270270              3.270270                     3.270270   \n",
       "610               3.688556              3.688556                     3.500000   \n",
       "\n",
       "title   *batteries not included (1987)  ...  Zulu (2013)  [REC] (2007)  \\\n",
       "userId                                  ...                              \n",
       "601                           4.425743  ...     4.425743      4.425743   \n",
       "602                           3.392593  ...     3.392593      3.392593   \n",
       "603                           3.507953  ...     3.507953      3.507953   \n",
       "604                           3.480000  ...     3.480000      3.480000   \n",
       "605                           3.210407  ...     3.210407      3.210407   \n",
       "606                           3.657399  ...     3.657399      3.657399   \n",
       "607                           3.786096  ...     3.786096      3.786096   \n",
       "608                           3.134176  ...     3.134176      3.134176   \n",
       "609                           3.270270  ...     3.270270      3.270270   \n",
       "610                           3.688556  ...     3.688556      4.000000   \n",
       "\n",
       "title   [REC]² (2009)  [REC]³ 3 Génesis (2012)  \\\n",
       "userId                                           \n",
       "601          4.425743                 4.425743   \n",
       "602          3.392593                 3.392593   \n",
       "603          3.507953                 3.507953   \n",
       "604          3.480000                 3.480000   \n",
       "605          3.210407                 3.210407   \n",
       "606          3.657399                 3.657399   \n",
       "607          3.786096                 3.786096   \n",
       "608          3.134176                 3.134176   \n",
       "609          3.270270                 3.270270   \n",
       "610          3.500000                 3.000000   \n",
       "\n",
       "title   anohana: The Flower We Saw That Day - The Movie (2013)  \\\n",
       "userId                                                           \n",
       "601                                              4.425743        \n",
       "602                                              3.392593        \n",
       "603                                              3.507953        \n",
       "604                                              3.480000        \n",
       "605                                              3.210407        \n",
       "606                                              3.657399        \n",
       "607                                              3.786096        \n",
       "608                                              3.134176        \n",
       "609                                              3.270270        \n",
       "610                                              3.688556        \n",
       "\n",
       "title   eXistenZ (1999)  xXx (2002)  xXx: State of the Union (2005)  \\\n",
       "userId                                                                \n",
       "601            4.425743    4.425743                        4.425743   \n",
       "602            3.392593    3.392593                        3.392593   \n",
       "603            5.000000    3.507953                        3.507953   \n",
       "604            3.480000    3.480000                        3.480000   \n",
       "605            3.210407    3.210407                        3.210407   \n",
       "606            3.657399    3.657399                        3.657399   \n",
       "607            3.786096    3.786096                        3.786096   \n",
       "608            4.500000    3.500000                        3.134176   \n",
       "609            3.270270    3.270270                        3.270270   \n",
       "610            3.688556    2.000000                        1.500000   \n",
       "\n",
       "title   ¡Three Amigos! (1986)  À nous la liberté (Freedom for Us) (1931)  \n",
       "userId                                                                    \n",
       "601                  4.425743                                   4.425743  \n",
       "602                  3.392593                                   3.392593  \n",
       "603                  3.507953                                   3.507953  \n",
       "604                  3.480000                                   3.480000  \n",
       "605                  3.210407                                   3.210407  \n",
       "606                  3.657399                                   3.657399  \n",
       "607                  3.786096                                   3.786096  \n",
       "608                  3.134176                                   3.134176  \n",
       "609                  3.270270                                   3.270270  \n",
       "610                  3.688556                                   3.688556  \n",
       "\n",
       "[10 rows x 9719 columns]"
      ]
     },
     "execution_count": 25,
     "metadata": {},
     "output_type": "execute_result"
    }
   ],
   "source": [
    "#create and fill user_based matrix\n",
    "user_based = pivot_table.copy()\n",
    "user_based = user_based.apply(lambda row: row.fillna(row.mean()), axis=1)\n",
    "user_based.tail(10)\n"
   ]
  },
  {
   "cell_type": "code",
   "execution_count": 26,
   "metadata": {},
   "outputs": [
    {
     "data": {
      "text/html": [
       "<div>\n",
       "<style scoped>\n",
       "    .dataframe tbody tr th:only-of-type {\n",
       "        vertical-align: middle;\n",
       "    }\n",
       "\n",
       "    .dataframe tbody tr th {\n",
       "        vertical-align: top;\n",
       "    }\n",
       "\n",
       "    .dataframe thead th {\n",
       "        text-align: right;\n",
       "    }\n",
       "</style>\n",
       "<table border=\"1\" class=\"dataframe\">\n",
       "  <thead>\n",
       "    <tr style=\"text-align: right;\">\n",
       "      <th>userId</th>\n",
       "      <th>1</th>\n",
       "      <th>2</th>\n",
       "      <th>3</th>\n",
       "      <th>4</th>\n",
       "      <th>5</th>\n",
       "      <th>6</th>\n",
       "      <th>7</th>\n",
       "      <th>8</th>\n",
       "      <th>9</th>\n",
       "      <th>10</th>\n",
       "      <th>...</th>\n",
       "      <th>601</th>\n",
       "      <th>602</th>\n",
       "      <th>603</th>\n",
       "      <th>604</th>\n",
       "      <th>605</th>\n",
       "      <th>606</th>\n",
       "      <th>607</th>\n",
       "      <th>608</th>\n",
       "      <th>609</th>\n",
       "      <th>610</th>\n",
       "    </tr>\n",
       "    <tr>\n",
       "      <th>userId</th>\n",
       "      <th></th>\n",
       "      <th></th>\n",
       "      <th></th>\n",
       "      <th></th>\n",
       "      <th></th>\n",
       "      <th></th>\n",
       "      <th></th>\n",
       "      <th></th>\n",
       "      <th></th>\n",
       "      <th></th>\n",
       "      <th></th>\n",
       "      <th></th>\n",
       "      <th></th>\n",
       "      <th></th>\n",
       "      <th></th>\n",
       "      <th></th>\n",
       "      <th></th>\n",
       "      <th></th>\n",
       "      <th></th>\n",
       "      <th></th>\n",
       "      <th></th>\n",
       "    </tr>\n",
       "  </thead>\n",
       "  <tbody>\n",
       "    <tr>\n",
       "      <th>1</th>\n",
       "      <td>1.000000</td>\n",
       "      <td>1.264516e-03</td>\n",
       "      <td>5.525772e-04</td>\n",
       "      <td>0.048419</td>\n",
       "      <td>0.021847</td>\n",
       "      <td>-0.045497</td>\n",
       "      <td>-6.199672e-03</td>\n",
       "      <td>0.047013</td>\n",
       "      <td>1.950985e-02</td>\n",
       "      <td>-8.754088e-03</td>\n",
       "      <td>...</td>\n",
       "      <td>0.018127</td>\n",
       "      <td>-0.017172</td>\n",
       "      <td>-0.015221</td>\n",
       "      <td>-3.705875e-02</td>\n",
       "      <td>-2.912138e-02</td>\n",
       "      <td>0.012016</td>\n",
       "      <td>0.055261</td>\n",
       "      <td>0.075224</td>\n",
       "      <td>-2.571255e-02</td>\n",
       "      <td>0.010932</td>\n",
       "    </tr>\n",
       "    <tr>\n",
       "      <th>2</th>\n",
       "      <td>0.001265</td>\n",
       "      <td>1.000000e+00</td>\n",
       "      <td>-8.476071e-25</td>\n",
       "      <td>-0.017164</td>\n",
       "      <td>0.021796</td>\n",
       "      <td>-0.021051</td>\n",
       "      <td>-1.111357e-02</td>\n",
       "      <td>-0.048085</td>\n",
       "      <td>-5.534891e-23</td>\n",
       "      <td>3.011629e-03</td>\n",
       "      <td>...</td>\n",
       "      <td>-0.050551</td>\n",
       "      <td>-0.031581</td>\n",
       "      <td>-0.001688</td>\n",
       "      <td>-3.345291e-23</td>\n",
       "      <td>-3.088913e-23</td>\n",
       "      <td>0.006226</td>\n",
       "      <td>-0.020504</td>\n",
       "      <td>-0.006001</td>\n",
       "      <td>-6.009100e-02</td>\n",
       "      <td>0.024999</td>\n",
       "    </tr>\n",
       "    <tr>\n",
       "      <th>3</th>\n",
       "      <td>0.000553</td>\n",
       "      <td>-8.476071e-25</td>\n",
       "      <td>1.000000e+00</td>\n",
       "      <td>-0.011260</td>\n",
       "      <td>-0.031539</td>\n",
       "      <td>0.004800</td>\n",
       "      <td>3.308497e-25</td>\n",
       "      <td>-0.032471</td>\n",
       "      <td>5.123183e-25</td>\n",
       "      <td>2.203980e-25</td>\n",
       "      <td>...</td>\n",
       "      <td>-0.004904</td>\n",
       "      <td>-0.016117</td>\n",
       "      <td>0.017749</td>\n",
       "      <td>3.085290e-25</td>\n",
       "      <td>-1.430628e-03</td>\n",
       "      <td>-0.037289</td>\n",
       "      <td>-0.007789</td>\n",
       "      <td>-0.013001</td>\n",
       "      <td>7.905178e-25</td>\n",
       "      <td>0.019550</td>\n",
       "    </tr>\n",
       "    <tr>\n",
       "      <th>4</th>\n",
       "      <td>0.048419</td>\n",
       "      <td>-1.716402e-02</td>\n",
       "      <td>-1.125978e-02</td>\n",
       "      <td>1.000000</td>\n",
       "      <td>-0.029620</td>\n",
       "      <td>0.013956</td>\n",
       "      <td>5.809139e-02</td>\n",
       "      <td>0.002065</td>\n",
       "      <td>-5.873603e-03</td>\n",
       "      <td>5.159032e-02</td>\n",
       "      <td>...</td>\n",
       "      <td>-0.037687</td>\n",
       "      <td>0.063122</td>\n",
       "      <td>0.027640</td>\n",
       "      <td>-1.378212e-02</td>\n",
       "      <td>4.003747e-02</td>\n",
       "      <td>0.020590</td>\n",
       "      <td>0.014628</td>\n",
       "      <td>-0.037569</td>\n",
       "      <td>-1.788358e-02</td>\n",
       "      <td>-0.000995</td>\n",
       "    </tr>\n",
       "    <tr>\n",
       "      <th>5</th>\n",
       "      <td>0.021847</td>\n",
       "      <td>2.179571e-02</td>\n",
       "      <td>-3.153892e-02</td>\n",
       "      <td>-0.029620</td>\n",
       "      <td>1.000000</td>\n",
       "      <td>0.009111</td>\n",
       "      <td>1.011715e-02</td>\n",
       "      <td>-0.012284</td>\n",
       "      <td>-1.950809e-24</td>\n",
       "      <td>-3.316512e-02</td>\n",
       "      <td>...</td>\n",
       "      <td>0.015964</td>\n",
       "      <td>0.012427</td>\n",
       "      <td>0.027076</td>\n",
       "      <td>1.246135e-02</td>\n",
       "      <td>-3.627206e-02</td>\n",
       "      <td>0.026319</td>\n",
       "      <td>0.031896</td>\n",
       "      <td>-0.001751</td>\n",
       "      <td>9.382892e-02</td>\n",
       "      <td>-0.000278</td>\n",
       "    </tr>\n",
       "    <tr>\n",
       "      <th>...</th>\n",
       "      <td>...</td>\n",
       "      <td>...</td>\n",
       "      <td>...</td>\n",
       "      <td>...</td>\n",
       "      <td>...</td>\n",
       "      <td>...</td>\n",
       "      <td>...</td>\n",
       "      <td>...</td>\n",
       "      <td>...</td>\n",
       "      <td>...</td>\n",
       "      <td>...</td>\n",
       "      <td>...</td>\n",
       "      <td>...</td>\n",
       "      <td>...</td>\n",
       "      <td>...</td>\n",
       "      <td>...</td>\n",
       "      <td>...</td>\n",
       "      <td>...</td>\n",
       "      <td>...</td>\n",
       "      <td>...</td>\n",
       "      <td>...</td>\n",
       "    </tr>\n",
       "    <tr>\n",
       "      <th>606</th>\n",
       "      <td>0.012016</td>\n",
       "      <td>6.225827e-03</td>\n",
       "      <td>-3.728895e-02</td>\n",
       "      <td>0.020590</td>\n",
       "      <td>0.026319</td>\n",
       "      <td>-0.009137</td>\n",
       "      <td>2.832591e-02</td>\n",
       "      <td>0.022277</td>\n",
       "      <td>3.163273e-02</td>\n",
       "      <td>-3.994577e-02</td>\n",
       "      <td>...</td>\n",
       "      <td>0.053683</td>\n",
       "      <td>0.016384</td>\n",
       "      <td>0.098011</td>\n",
       "      <td>6.107833e-02</td>\n",
       "      <td>1.967830e-02</td>\n",
       "      <td>1.000000</td>\n",
       "      <td>0.017927</td>\n",
       "      <td>0.056676</td>\n",
       "      <td>3.842210e-02</td>\n",
       "      <td>0.075464</td>\n",
       "    </tr>\n",
       "    <tr>\n",
       "      <th>607</th>\n",
       "      <td>0.055261</td>\n",
       "      <td>-2.050374e-02</td>\n",
       "      <td>-7.789105e-03</td>\n",
       "      <td>0.014628</td>\n",
       "      <td>0.031896</td>\n",
       "      <td>0.045501</td>\n",
       "      <td>3.098070e-02</td>\n",
       "      <td>0.048822</td>\n",
       "      <td>-1.216061e-02</td>\n",
       "      <td>-1.765576e-02</td>\n",
       "      <td>...</td>\n",
       "      <td>0.049059</td>\n",
       "      <td>0.038197</td>\n",
       "      <td>0.049317</td>\n",
       "      <td>2.355180e-03</td>\n",
       "      <td>-2.938114e-02</td>\n",
       "      <td>0.017927</td>\n",
       "      <td>1.000000</td>\n",
       "      <td>0.044514</td>\n",
       "      <td>1.904919e-02</td>\n",
       "      <td>0.021860</td>\n",
       "    </tr>\n",
       "    <tr>\n",
       "      <th>608</th>\n",
       "      <td>0.075224</td>\n",
       "      <td>-6.000828e-03</td>\n",
       "      <td>-1.300064e-02</td>\n",
       "      <td>-0.037569</td>\n",
       "      <td>-0.001751</td>\n",
       "      <td>0.021727</td>\n",
       "      <td>2.841409e-02</td>\n",
       "      <td>0.071759</td>\n",
       "      <td>3.278284e-02</td>\n",
       "      <td>-5.199963e-02</td>\n",
       "      <td>...</td>\n",
       "      <td>0.069198</td>\n",
       "      <td>0.051388</td>\n",
       "      <td>0.012801</td>\n",
       "      <td>6.318649e-03</td>\n",
       "      <td>-7.977761e-03</td>\n",
       "      <td>0.056676</td>\n",
       "      <td>0.044514</td>\n",
       "      <td>1.000000</td>\n",
       "      <td>5.071449e-02</td>\n",
       "      <td>0.054454</td>\n",
       "    </tr>\n",
       "    <tr>\n",
       "      <th>609</th>\n",
       "      <td>-0.025713</td>\n",
       "      <td>-6.009100e-02</td>\n",
       "      <td>7.905178e-25</td>\n",
       "      <td>-0.017884</td>\n",
       "      <td>0.093829</td>\n",
       "      <td>0.053017</td>\n",
       "      <td>8.754391e-03</td>\n",
       "      <td>0.077180</td>\n",
       "      <td>5.226205e-23</td>\n",
       "      <td>-4.009050e-02</td>\n",
       "      <td>...</td>\n",
       "      <td>0.043465</td>\n",
       "      <td>0.062400</td>\n",
       "      <td>0.015334</td>\n",
       "      <td>9.403771e-02</td>\n",
       "      <td>-5.472183e-02</td>\n",
       "      <td>0.038422</td>\n",
       "      <td>0.019049</td>\n",
       "      <td>0.050714</td>\n",
       "      <td>1.000000e+00</td>\n",
       "      <td>-0.012471</td>\n",
       "    </tr>\n",
       "    <tr>\n",
       "      <th>610</th>\n",
       "      <td>0.010932</td>\n",
       "      <td>2.499921e-02</td>\n",
       "      <td>1.954996e-02</td>\n",
       "      <td>-0.000995</td>\n",
       "      <td>-0.000278</td>\n",
       "      <td>0.009603</td>\n",
       "      <td>6.842957e-02</td>\n",
       "      <td>0.017144</td>\n",
       "      <td>5.189754e-02</td>\n",
       "      <td>-2.600368e-02</td>\n",
       "      <td>...</td>\n",
       "      <td>0.021603</td>\n",
       "      <td>0.030061</td>\n",
       "      <td>0.051255</td>\n",
       "      <td>1.562147e-02</td>\n",
       "      <td>6.983700e-02</td>\n",
       "      <td>0.075464</td>\n",
       "      <td>0.021860</td>\n",
       "      <td>0.054454</td>\n",
       "      <td>-1.247143e-02</td>\n",
       "      <td>1.000000</td>\n",
       "    </tr>\n",
       "  </tbody>\n",
       "</table>\n",
       "<p>610 rows × 610 columns</p>\n",
       "</div>"
      ],
      "text/plain": [
       "userId       1             2             3         4         5         6    \\\n",
       "userId                                                                       \n",
       "1       1.000000  1.264516e-03  5.525772e-04  0.048419  0.021847 -0.045497   \n",
       "2       0.001265  1.000000e+00 -8.476071e-25 -0.017164  0.021796 -0.021051   \n",
       "3       0.000553 -8.476071e-25  1.000000e+00 -0.011260 -0.031539  0.004800   \n",
       "4       0.048419 -1.716402e-02 -1.125978e-02  1.000000 -0.029620  0.013956   \n",
       "5       0.021847  2.179571e-02 -3.153892e-02 -0.029620  1.000000  0.009111   \n",
       "...          ...           ...           ...       ...       ...       ...   \n",
       "606     0.012016  6.225827e-03 -3.728895e-02  0.020590  0.026319 -0.009137   \n",
       "607     0.055261 -2.050374e-02 -7.789105e-03  0.014628  0.031896  0.045501   \n",
       "608     0.075224 -6.000828e-03 -1.300064e-02 -0.037569 -0.001751  0.021727   \n",
       "609    -0.025713 -6.009100e-02  7.905178e-25 -0.017884  0.093829  0.053017   \n",
       "610     0.010932  2.499921e-02  1.954996e-02 -0.000995 -0.000278  0.009603   \n",
       "\n",
       "userId           7         8             9             10   ...       601  \\\n",
       "userId                                                      ...             \n",
       "1      -6.199672e-03  0.047013  1.950985e-02 -8.754088e-03  ...  0.018127   \n",
       "2      -1.111357e-02 -0.048085 -5.534891e-23  3.011629e-03  ... -0.050551   \n",
       "3       3.308497e-25 -0.032471  5.123183e-25  2.203980e-25  ... -0.004904   \n",
       "4       5.809139e-02  0.002065 -5.873603e-03  5.159032e-02  ... -0.037687   \n",
       "5       1.011715e-02 -0.012284 -1.950809e-24 -3.316512e-02  ...  0.015964   \n",
       "...              ...       ...           ...           ...  ...       ...   \n",
       "606     2.832591e-02  0.022277  3.163273e-02 -3.994577e-02  ...  0.053683   \n",
       "607     3.098070e-02  0.048822 -1.216061e-02 -1.765576e-02  ...  0.049059   \n",
       "608     2.841409e-02  0.071759  3.278284e-02 -5.199963e-02  ...  0.069198   \n",
       "609     8.754391e-03  0.077180  5.226205e-23 -4.009050e-02  ...  0.043465   \n",
       "610     6.842957e-02  0.017144  5.189754e-02 -2.600368e-02  ...  0.021603   \n",
       "\n",
       "userId       602       603           604           605       606       607  \\\n",
       "userId                                                                       \n",
       "1      -0.017172 -0.015221 -3.705875e-02 -2.912138e-02  0.012016  0.055261   \n",
       "2      -0.031581 -0.001688 -3.345291e-23 -3.088913e-23  0.006226 -0.020504   \n",
       "3      -0.016117  0.017749  3.085290e-25 -1.430628e-03 -0.037289 -0.007789   \n",
       "4       0.063122  0.027640 -1.378212e-02  4.003747e-02  0.020590  0.014628   \n",
       "5       0.012427  0.027076  1.246135e-02 -3.627206e-02  0.026319  0.031896   \n",
       "...          ...       ...           ...           ...       ...       ...   \n",
       "606     0.016384  0.098011  6.107833e-02  1.967830e-02  1.000000  0.017927   \n",
       "607     0.038197  0.049317  2.355180e-03 -2.938114e-02  0.017927  1.000000   \n",
       "608     0.051388  0.012801  6.318649e-03 -7.977761e-03  0.056676  0.044514   \n",
       "609     0.062400  0.015334  9.403771e-02 -5.472183e-02  0.038422  0.019049   \n",
       "610     0.030061  0.051255  1.562147e-02  6.983700e-02  0.075464  0.021860   \n",
       "\n",
       "userId       608           609       610  \n",
       "userId                                    \n",
       "1       0.075224 -2.571255e-02  0.010932  \n",
       "2      -0.006001 -6.009100e-02  0.024999  \n",
       "3      -0.013001  7.905178e-25  0.019550  \n",
       "4      -0.037569 -1.788358e-02 -0.000995  \n",
       "5      -0.001751  9.382892e-02 -0.000278  \n",
       "...          ...           ...       ...  \n",
       "606     0.056676  3.842210e-02  0.075464  \n",
       "607     0.044514  1.904919e-02  0.021860  \n",
       "608     1.000000  5.071449e-02  0.054454  \n",
       "609     0.050714  1.000000e+00 -0.012471  \n",
       "610     0.054454 -1.247143e-02  1.000000  \n",
       "\n",
       "[610 rows x 610 columns]"
      ]
     },
     "execution_count": 26,
     "metadata": {},
     "output_type": "execute_result"
    }
   ],
   "source": [
    "user_based = user_based.T.corr()\n",
    "user_based "
   ]
  },
  {
   "cell_type": "code",
   "execution_count": 27,
   "metadata": {},
   "outputs": [
    {
     "data": {
      "text/plain": [
       "userId\n",
       "6      1.000000\n",
       "181    0.263749\n",
       "126    0.223044\n",
       "584    0.218799\n",
       "411    0.195856\n",
       "179    0.192669\n",
       "Name: 6, dtype: float64"
      ]
     },
     "execution_count": 27,
     "metadata": {},
     "output_type": "execute_result"
    }
   ],
   "source": [
    "# Calculate correlations for the target user (e.g., User 6)\n",
    "\n",
    "target_user_id = 6\n",
    "user_corr_target = user_based[target_user_id]\n",
    "\n",
    "# Sort the correlations in descending order\n",
    "user_corr_target_sorted = user_corr_target.sort_values(ascending=False)\n",
    "user_corr_target_sorted.head(6)"
   ]
  },
  {
   "cell_type": "code",
   "execution_count": 28,
   "metadata": {},
   "outputs": [
    {
     "data": {
      "text/plain": [
       "Int64Index([181, 126, 584, 411, 179], dtype='int64', name='userId')"
      ]
     },
     "execution_count": 28,
     "metadata": {},
     "output_type": "execute_result"
    }
   ],
   "source": [
    "k = 5  # my preference value\n",
    "top_similar_users = user_corr_target_sorted.iloc[1:k+1].index\n",
    "top_similar_users\n"
   ]
  },
  {
   "cell_type": "markdown",
   "metadata": {},
   "source": [
    "The code snippets above calculate the user correlations using the transposed user-based matrix, identifies the target user (User 6), sorts the users based on their correlation scores in descending order, and selects the top k most similar users. These similar users will be used for collaborative filtering recommendations based on the target user's preferences."
   ]
  },
  {
   "cell_type": "markdown",
   "metadata": {},
   "source": [
    "### __Recommending Movie Ratings__"
   ]
  },
  {
   "cell_type": "markdown",
   "metadata": {},
   "source": [
    "The function below, `recommend_top_movies`, is designed to provide personalized movie recommendations for a target user utilizing user-based collaborative filtering. It first initializes variables for similarity calculation and retrieves all movie IDs that the target user has not yet rated. Subsequently, it calculates the predicted rating for each unrated movie by considering the weighted average of ratings from similar users. The function then sorts the movie recommendations based on predicted ratings in descending order and selects the top n recommendations. This collaborative filtering approach leverages the user's historical preferences and identifies movies that align with the tastes of similar users, offering a personalized and relevant set of recommendations for the target user."
   ]
  },
  {
   "cell_type": "code",
   "execution_count": 29,
   "metadata": {},
   "outputs": [],
   "source": [
    "\"\"\" \n",
    "The function takes userId and number of recommendations as input,\n",
    "sorts movie recommendations based on predicted ratings.\n",
    "\"\"\"\n",
    "def recommend_top_movies(target_user_id, n=5):\n",
    "    # Initialize variables for similarity calculation\n",
    "    sum_similarity = 0\n",
    "    weighted_ratings = 0\n",
    "    \n",
    "    # Get all movie IDs that the user has not yet rated\n",
    "    unrated_movies = data[data['userId'] == target_user_id]\n",
    "    unrated_movies = unrated_movies[~unrated_movies['movieId'].isin(pivot_table)]\n",
    "    \n",
    "    # Create a list to store movie recommendations with titles and predicted ratings\n",
    "    movie_recommendations = []\n",
    "    \n",
    "    # Calculate the predicted rating for each unrated movie\n",
    "    for movie_id in unrated_movies['movieId'].unique():\n",
    "        # Initialize variables for user similarity calculation\n",
    "        sum_similarity = 0\n",
    "        weighted_ratings = 0\n",
    "        \n",
    "        for user in top_similar_users:\n",
    "            # Filter to get user's rating for the movie\n",
    "            user_movie_rating = data[(data['userId'] == user) & (data['movieId'] == movie_id)]['rating'].sum()\n",
    "            \n",
    "            # Weighted contribution from each similar user\n",
    "            weighted_ratings += user_based.loc[target_user_id, user] * user_movie_rating\n",
    "            \n",
    "            # Accumulate the similarity weights\n",
    "            sum_similarity += user_based.loc[target_user_id, user]\n",
    "        \n",
    "        # Predicted rating using the weighted average\n",
    "        if sum_similarity != 0:\n",
    "            predicted_rating = round(weighted_ratings / sum_similarity, 1)\n",
    "        else:\n",
    "            # Handle the case where there are no similar users with non-zero ratings\n",
    "            predicted_rating = 0\n",
    "        \n",
    "        movie_title = data[data['movieId'] == movie_id]['title'].values[0]\n",
    "        movie_recommendations.append((movie_title, predicted_rating))\n",
    "    \n",
    "    # Sort the movie recommendations by predicted rating in descending order\n",
    "    sorted_movie_recommendations = sorted(movie_recommendations, key=lambda x: x[1], reverse=True)\n",
    "    \n",
    "    # Get the top n movie recommendations with titles and predicted ratings\n",
    "    top_recommendations = sorted_movie_recommendations[:n]\n",
    "    \n",
    "    return top_recommendations\n",
    "\n",
    "# Example usage\n",
    "target_user_id = 6\n",
    "recommendations = recommend_top_movies(target_user_id)\n",
    "\n"
   ]
  },
  {
   "cell_type": "code",
   "execution_count": 30,
   "metadata": {},
   "outputs": [
    {
     "name": "stdout",
     "output_type": "stream",
     "text": [
      "('Forrest Gump (1994)', 4.8)\n",
      "('Firm, The (1993)', 4.6)\n",
      "('Jurassic Park (1993)', 4.4)\n",
      "('Seven (a.k.a. Se7en) (1995)', 4.2)\n",
      "('Crimson Tide (1995)', 4.2)\n"
     ]
    }
   ],
   "source": [
    "for rec  in recommendations:\n",
    "    print(rec)\n"
   ]
  },
  {
   "cell_type": "markdown",
   "metadata": {},
   "source": [
    "**Strengths:**\n",
    "\n",
    "- Simple Implementation: The user-based approach is relatively simple to implement and understand, making it an accessible method for collaborative filtering. It doesn't require complex model training and can be quickly deployed.\n",
    "\n",
    "- Adaptability: The model adapts to changes in user behavior over time. As users rate or interact with new items, the system updates its recommendations based on the most recent data.\n",
    "\n",
    "- Interpretability: Recommendations are based on the behavior of similar users, providing some level of interpretability. Users might find the suggestions more acceptable when they can understand why certain items are recommended.\n",
    "\n",
    "**Limitations:**\n",
    "\n",
    "- Cold Start Problem: The model faces challenges with new users who have limited or no interaction history. Without sufficient data, it struggles to provide accurate recommendations for users with no established preferences.\n",
    "\n",
    "- Scalability: As the user base and item catalog grow, the computation of user similarities becomes more computationally expensive. This can impact the scalability of the user-based collaborative filtering approach for large datasets.\n",
    "\n",
    "- Sparsity Issues: In scenarios where the user-item interaction matrix is sparse, meaning users have rated or interacted with only a small fraction of items, finding similar users becomes challenging, leading to less reliable recommendations.\n",
    "\n",
    "In conclusion, while Memory-Based(user-based) Collaborative Filtering has its strengths in simplicity and adaptability, it also faces limitations related to the scalability, sparsity, and dependence on explicit feedback. The choice of collaborative filtering method should be made considering the specific characteristics of the application and user data."
   ]
  },
  {
   "cell_type": "markdown",
   "metadata": {},
   "source": [
    "### Model-Based Method (Final Model)\n",
    "\n",
    "Model-based collaborative filtering involves the development of predictive models using machine learning algorithms. Common metrics  that we will use for evaluating the recommendation models include Root Mean Squared Error (RMSE) and Mean Absolute Error (MAE). These metrics quantify the accuracy of predicted ratings compared to actual ratings, providing a quantitative measure of the model's performance."
   ]
  },
  {
   "cell_type": "code",
   "execution_count": 31,
   "metadata": {},
   "outputs": [
    {
     "data": {
      "text/plain": [
       "<surprise.dataset.DatasetAutoFolds at 0x254cafa8610>"
      ]
     },
     "execution_count": 31,
     "metadata": {},
     "output_type": "execute_result"
    }
   ],
   "source": [
    "reader = Reader(rating_scale=(0.5, 5))\n",
    "\n",
    "df = Dataset.load_from_df(data[['userId', 'movieId', 'rating']], reader)\n",
    "df\n"
   ]
  },
  {
   "cell_type": "markdown",
   "metadata": {},
   "source": [
    "The above lines of code set up the data for collaborative filtering using Surprise, defining the rating scale, loading the dataset, and splitting it into training and testing sets for model evaluation. The Surprise library simplifies the implementation of collaborative filtering algorithms and provides tools for evaluating their performance."
   ]
  },
  {
   "cell_type": "markdown",
   "metadata": {},
   "source": [
    "The next cell segment demonstrates the initialization, cross-validation, and evaluation of an SVD collaborative filtering model using the Surprise library. The printed metrics provide insights into the accuracy and performance of the recommendation model."
   ]
  },
  {
   "cell_type": "code",
   "execution_count": 32,
   "metadata": {},
   "outputs": [
    {
     "name": "stdout",
     "output_type": "stream",
     "text": [
      "Evaluating RMSE, MAE of algorithm SVD on 5 split(s).\n",
      "\n",
      "                  Fold 1  Fold 2  Fold 3  Fold 4  Fold 5  Mean    Std     \n",
      "RMSE (testset)    0.8797  0.8623  0.8885  0.8681  0.8660  0.8729  0.0097  \n",
      "MAE (testset)     0.6760  0.6653  0.6809  0.6676  0.6650  0.6709  0.0064  \n",
      "Fit time          8.82    7.71    7.60    7.41    7.60    7.83    0.51    \n",
      "Test time         0.37    0.19    0.33    0.27    0.16    0.26    0.08    \n",
      "test_rmse: 0.8729258441758658\n",
      "test_mae: 0.670949850831758\n"
     ]
    }
   ],
   "source": [
    "random.seed(42)\n",
    "\n",
    "# Initialize an svd0 model\n",
    "svd0 = SVD()\n",
    "\n",
    "# Perform cross-validation\n",
    "results = cross_validate(svd0, df, measures=['rmse', 'mae'], cv=5, verbose=True)\n",
    "\n",
    "# Print the cross-validation results\n",
    "for metric in ['test_rmse', 'test_mae']:\n",
    "    print(f'{metric}: {results[metric].mean()}')"
   ]
  },
  {
   "cell_type": "markdown",
   "metadata": {},
   "source": [
    "This collaborative filtering algorithm reveals promising results with an average Root Mean Squared Error (RMSE) across 5 folds of approximately 0.8742, indicating a relatively low level of prediction error. Additionally, its Mean Absolute Error (MAE) averages around 0.6715, further emphasizing its capability to make accurate predictions with minimal absolute differences.\n",
    "\n",
    "The algorithm also demonstrates reasonable computational efficiency, with an average training time of approximately 1.70 seconds and a test time around 0.19 seconds. This showcases efficient model fitting and responsive prediction generation on the test set.\n",
    "\n",
    "However, let's fine tune the model for even better performances using a GridSearch."
   ]
  },
  {
   "cell_type": "code",
   "execution_count": 33,
   "metadata": {},
   "outputs": [
    {
     "name": "stdout",
     "output_type": "stream",
     "text": [
      "{'rmse': 0.8784280744432618, 'mae': 0.6773906036760261}\n",
      "{'rmse': {'n_factors': 20, 'reg_all': 0.05, 'n_epochs': 10, 'lr_all': 0.005}, 'mae': {'n_factors': 20, 'reg_all': 0.02, 'n_epochs': 10, 'lr_all': 0.005}}\n"
     ]
    }
   ],
   "source": [
    "# Perform a gridsearch with SVD\n",
    "params = {'n_factors': [20, 50, 100],\n",
    "         'reg_all': [0.02, 0.05, 0.1],\n",
    "         'n_epochs': [5, 10],\n",
    "         'lr_all': [0.002, 0.005]\n",
    "}\n",
    "g_s_svd = GridSearchCV(SVD,param_grid=params,n_jobs=-1,cv=5)\n",
    "g_s_svd.fit(df)\n",
    "\n",
    "# print out optimal parameters for SVD after GridSearch\n",
    "print(g_s_svd.best_score)\n",
    "print(g_s_svd.best_params)\n"
   ]
  },
  {
   "cell_type": "code",
   "execution_count": 34,
   "metadata": {},
   "outputs": [
    {
     "name": "stdout",
     "output_type": "stream",
     "text": [
      "{'rmse': {'n_factors': 20, 'reg_all': 0.05, 'n_epochs': 10, 'lr_all': 0.005}, 'mae': {'n_factors': 20, 'reg_all': 0.02, 'n_epochs': 10, 'lr_all': 0.005}}\n"
     ]
    }
   ],
   "source": [
    "print(g_s_svd.best_params)"
   ]
  },
  {
   "cell_type": "markdown",
   "metadata": {},
   "source": [
    "Best Model Parameters and RMSE\n",
    "\n",
    "After conducting a grid search with cross-validation, the SVD (Singular Value Decomposition) algorithm yielded the following best parameters:\n",
    "\n",
    "* Number of Factors (n_factors): 20\n",
    "* Number of Epochs (n_epochs): 10\n",
    "* Learning Rate (lr_all): 0.005\n",
    "* Regularization Term (reg_all): 0.2"
   ]
  },
  {
   "cell_type": "code",
   "execution_count": 35,
   "metadata": {},
   "outputs": [
    {
     "data": {
      "text/plain": [
       "<surprise.prediction_algorithms.matrix_factorization.SVD at 0x254cab0fbe0>"
      ]
     },
     "execution_count": 35,
     "metadata": {},
     "output_type": "execute_result"
    }
   ],
   "source": [
    "svd = SVD(n_factors=20, n_epochs=10, lr_all=0.005, reg_all=0.05)\n",
    "svd.fit(df.build_full_trainset())\n"
   ]
  },
  {
   "cell_type": "code",
   "execution_count": 36,
   "metadata": {},
   "outputs": [
    {
     "data": {
      "text/plain": [
       "Prediction(uid=380, iid=1370, r_ui=3.5, est=3.563098493570251, details={'was_impossible': False})"
      ]
     },
     "execution_count": 36,
     "metadata": {},
     "output_type": "execute_result"
    }
   ],
   "source": [
    "#testing the tuned svd model\n",
    "svd.predict(380, 1370, 3.5)\n"
   ]
  },
  {
   "cell_type": "markdown",
   "metadata": {},
   "source": [
    "Here is a function that takes user_id, data, model and number of recommendations as inputs and outputs a list of movies for the user as recommendations."
   ]
  },
  {
   "cell_type": "code",
   "execution_count": 38,
   "metadata": {},
   "outputs": [
    {
     "name": "stdout",
     "output_type": "stream",
     "text": [
      "Movie: Rear Window (1954), Predicted Rating: 4.4\n",
      "Movie: Fight Club (1999), Predicted Rating: 4.4\n",
      "Movie: Dr. Strangelove or: How I Learned to Stop Worrying and Love the Bomb (1964), Predicted Rating: 4.3\n",
      "Movie: Godfather, The (1972), Predicted Rating: 4.3\n",
      "Movie: Casablanca (1942), Predicted Rating: 4.3\n"
     ]
    }
   ],
   "source": [
    "\"\"\" \n",
    "This function takes user_id, dataframe, model/algorithm and num_recommendations as input,\n",
    "and gives a list of movies as the output.\n",
    "\"\"\"\n",
    "def get_top_recommendations(user_id, data, svd, num_recommendations=5):\n",
    "    # Get a list of all movie IDs in your dataset\n",
    "    all_movie_ids = np.unique(data['movieId'])\n",
    "    \n",
    "    # Create a list to store predicted ratings for unrated movies\n",
    "    predicted_ratings = []\n",
    "\n",
    "    # Predict ratings for the user on unrated movies\n",
    "    for movie_id in all_movie_ids:\n",
    "        # Check if the user has already rated the movie\n",
    "        if not data[(data['userId'] == user_id) & (data['movieId'] == movie_id)].empty:\n",
    "            continue  # Skip if the user has rated the movie\n",
    "\n",
    "        predicted_rating = svd.predict(user_id, movie_id)\n",
    "        predicted_ratings.append((movie_id, round(predicted_rating.est, 1)))\n",
    "\n",
    "    # Sort the predicted ratings in descending order\n",
    "    predicted_ratings.sort(key=lambda x: x[1], reverse=True)\n",
    "\n",
    "    # Get the top recommended movies\n",
    "    top_recommendations = predicted_ratings[:num_recommendations]\n",
    "\n",
    "    # Display the top recommended movies\n",
    "    for movie_id, predicted_rating in top_recommendations:\n",
    "        movie_title = data[data['movieId'] == movie_id]['title'].values[0]\n",
    "        print(f\"Movie: {movie_title}, Predicted Rating: {predicted_rating}\")\n",
    "\n",
    "# Example usage\n",
    "user_id = 6\n",
    "get_top_recommendations(user_id, data, svd)\n"
   ]
  },
  {
   "cell_type": "markdown",
   "metadata": {},
   "source": [
    "For the above user, userId = 6, our model gave a list of these five movies and the ratings they would give for each:\n",
    "* Rear Window (1954), Predicted Rating: 4.4\n",
    "* Fight Club (1999), Predicted Rating: 4.4\n",
    "* Dr. Strangelove or: How I Learned to Stop Worrying and Love the Bomb (1964), Predicted Rating: 4.3\n",
    "* Godfather, The (1972), Predicted Rating: 4.3\n",
    "* Casablanca (1942), Predicted Rating: 4.3"
   ]
  },
  {
   "cell_type": "markdown",
   "metadata": {},
   "source": [
    "**Strengths:**\n",
    "- **Handling Sparsity:** Model-based collaborative filtering techniques, such as matrix factorization, effectively handle sparse user-item interaction matrices by learning latent features that represent user preferences and item characteristics.\n",
    "\n",
    "- **Scalability:** These methods often exhibit better scalability compared to memory-based approaches, making them suitable for large datasets and a growing user base.\n",
    "\n",
    "- **Complex Pattern Recognition:** Model-based collaborative filtering can capture intricate patterns and non-linear relationships in user behavior, allowing for more accurate and personalized recommendations.\n",
    "\n",
    "- **Prediction Accuracy:** With proper tuning and optimization, model-based methods can achieve higher prediction accuracy compared to simpler collaborative filtering approaches.\n",
    "\n",
    "**Limitations:**\n",
    "- **Cold-Start Problem:** Model-based collaborative filtering models may struggle with cold-start problems, where there is insufficient data for new users or items. These situations can lead to inaccurate recommendations.\n",
    "- **Interpretability:** The inner workings of some model-based methods might lack interpretability, making it challenging to explain recommendations to users. This can be a drawback in scenarios where transparency is crucial.\n",
    "\n",
    "Model-based collaborative filtering techniques offer a powerful and scalable approach to recommendation systems, leveraging advanced algorithms and machine learning models. Their ability to handle sparsity, recognize complex patterns, and scale with growing datasets makes them valuable for large-scale applications.\n",
    "\n"
   ]
  },
  {
   "cell_type": "markdown",
   "metadata": {},
   "source": [
    "### __CONCLUSION__\n",
    "\n",
    "Building an effective recommendation system involves understanding the strengths and limitations of various techniques, and combining them judiciously to create a system that caters to different user scenarios and challenges. Continuous experimentation, evaluation, and refinement are crucial for ensuring the system stays relevant and valuable over time. Here's a summary:\n",
    "\n",
    "- **Content-Based Filtering:** Utilizing movie features such as genres, we built a content-based recommender. While it provided recommendations based on similarities in content, it might face challenges in capturing diverse user preferences.\n",
    "\n",
    "- **Memory-Based Collaborative Filtering (User-Based):** - It explores user similarity to recommend items and may struggle when data is insufficient or users have unique preferences.\n",
    "\n",
    "- **Model-Based Collaborative Filtering (SVD):** We explored the Surprise library to implement SVD, a matrix factorization technique. While SVD showed reasonable performance with an RMSE of 0.8925, its effectiveness could be influenced by hyperparameter tuning."
   ]
  },
  {
   "cell_type": "markdown",
   "metadata": {},
   "source": [
    "### __LIMITATIONS__\n",
    "- **Cold-start problem:** Difficulty making accurate recommendations for new items or users with limited interaction history.\n",
    "- **Data sparsity:** Challenges arise when user-item interaction data is scarce, leading to less accurate recommendations.\n",
    "- **Scalability:** User-based collaborative filtering can become computationally expensive as the user base grows.\n"
   ]
  },
  {
   "cell_type": "markdown",
   "metadata": {},
   "source": [
    "### __RECOMMENDATIONS__\n",
    "- **User Feedback:** Solicit and analyze user feedback. User reviews, ratings, and comments provide valuable insights into user satisfaction and potential areas for improvement.\n",
    "- **Real-time Updates:** Implement mechanisms for real-time updates to adapt to evolving user preferences and trends. Regularly refreshing recommendation models helps in capturing dynamic user behaviors.\n",
    "-  **Mobile and Cross-Platform Compatibility:** Ensure that the recommendation system is compatible with various platforms, including mobile devices. Consider differences in user behavior and preferences across different devices."
   ]
  },
  {
   "cell_type": "markdown",
   "metadata": {},
   "source": [
    "### __NEXT STEPS__\n",
    "- Explore hybrid models: Combining different recommendation techniques can overcome individual limitations.This hybrid approach can leverage the detailed user-item interactions captured by collaborative filtering while incorporating content features for a more personalized and diverse recommendation.\n",
    "- Fine-tune models: Optimize parameters and algorithms to improve accuracy.further hyperparameter tuning and model evaluation, especially with a larger dataset, could enhance the performance of collaborative filtering techniques. Regular updates to the recommendation engine based on user feedback and evolving content can also contribute to its effectiveness over time.\n",
    "- Address cold-start problem: Investigate ways to enhance recommendations for new items or users.\n",
    "- Experiment with deep learning: Explore neural collaborative filtering for capturing intricate patterns in user behavior.\n"
   ]
  }
 ],
 "metadata": {
  "kernelspec": {
   "display_name": "Python 3",
   "language": "python",
   "name": "python3"
  },
  "language_info": {
   "codemirror_mode": {
    "name": "ipython",
    "version": 3
   },
   "file_extension": ".py",
   "mimetype": "text/x-python",
   "name": "python",
   "nbconvert_exporter": "python",
   "pygments_lexer": "ipython3",
   "version": "3.11.4"
  }
 },
 "nbformat": 4,
 "nbformat_minor": 2
}
